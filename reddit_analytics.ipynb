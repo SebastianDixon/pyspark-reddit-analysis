{
 "cells": [
  {
   "cell_type": "code",
   "execution_count": 101,
   "id": "787414cf",
   "metadata": {},
   "outputs": [],
   "source": [
    "import pandas as pd\n",
    "import numpy as np\n",
    "from datetime import datetime\n",
    "import matplotlib.pyplot as plt"
   ]
  },
  {
   "cell_type": "code",
   "execution_count": 102,
   "id": "445c2435",
   "metadata": {},
   "outputs": [
    {
     "data": {
      "text/html": [
       "<div>\n",
       "<style scoped>\n",
       "    .dataframe tbody tr th:only-of-type {\n",
       "        vertical-align: middle;\n",
       "    }\n",
       "\n",
       "    .dataframe tbody tr th {\n",
       "        vertical-align: top;\n",
       "    }\n",
       "\n",
       "    .dataframe thead th {\n",
       "        text-align: right;\n",
       "    }\n",
       "</style>\n",
       "<table border=\"1\" class=\"dataframe\">\n",
       "  <thead>\n",
       "    <tr style=\"text-align: right;\">\n",
       "      <th></th>\n",
       "      <th>id</th>\n",
       "      <th>author</th>\n",
       "      <th>submission</th>\n",
       "      <th>body</th>\n",
       "      <th>subreddit</th>\n",
       "      <th>created_utc</th>\n",
       "      <th>collected_utc</th>\n",
       "      <th>time_created</th>\n",
       "    </tr>\n",
       "  </thead>\n",
       "  <tbody>\n",
       "    <tr>\n",
       "      <th>0</th>\n",
       "      <td>t3_1834bpq</td>\n",
       "      <td>Championnats91</td>\n",
       "      <td>kao3hv7</td>\n",
       "      <td>Quality coffee and fancy chocolate. Can’t go w...</td>\n",
       "      <td>AskUK</td>\n",
       "      <td>1.700895e+09</td>\n",
       "      <td>1.700895e+09</td>\n",
       "      <td>06:56:57</td>\n",
       "    </tr>\n",
       "    <tr>\n",
       "      <th>1</th>\n",
       "      <td>t3_182y2il</td>\n",
       "      <td>ProfitTheProphet</td>\n",
       "      <td>kao3i5j</td>\n",
       "      <td>It was smoked a lot more widely than I think y...</td>\n",
       "      <td>AskAnAmerican</td>\n",
       "      <td>1.700895e+09</td>\n",
       "      <td>1.700895e+09</td>\n",
       "      <td>06:57:03</td>\n",
       "    </tr>\n",
       "    <tr>\n",
       "      <th>2</th>\n",
       "      <td>t3_182ychd</td>\n",
       "      <td>Stuspawton</td>\n",
       "      <td>kao3jjy</td>\n",
       "      <td>I’m over two and a half years sober now, so I ...</td>\n",
       "      <td>AskUK</td>\n",
       "      <td>1.700895e+09</td>\n",
       "      <td>1.700895e+09</td>\n",
       "      <td>06:57:31</td>\n",
       "    </tr>\n",
       "    <tr>\n",
       "      <th>3</th>\n",
       "      <td>t3_18329v6</td>\n",
       "      <td>IngerasulBihorului</td>\n",
       "      <td>kao3kh2</td>\n",
       "      <td>2 DualSense Controllers(one of them didnt arri...</td>\n",
       "      <td>AskUK</td>\n",
       "      <td>1.700895e+09</td>\n",
       "      <td>1.700895e+09</td>\n",
       "      <td>06:57:50</td>\n",
       "    </tr>\n",
       "    <tr>\n",
       "      <th>4</th>\n",
       "      <td>t3_1834bpq</td>\n",
       "      <td>Kittlebeanfluff</td>\n",
       "      <td>kao3os8</td>\n",
       "      <td>Cocaine then.</td>\n",
       "      <td>AskUK</td>\n",
       "      <td>1.700896e+09</td>\n",
       "      <td>1.700896e+09</td>\n",
       "      <td>06:59:17</td>\n",
       "    </tr>\n",
       "  </tbody>\n",
       "</table>\n",
       "</div>"
      ],
      "text/plain": [
       "           id              author submission  \\\n",
       "0  t3_1834bpq      Championnats91    kao3hv7   \n",
       "1  t3_182y2il    ProfitTheProphet    kao3i5j   \n",
       "2  t3_182ychd          Stuspawton    kao3jjy   \n",
       "3  t3_18329v6  IngerasulBihorului    kao3kh2   \n",
       "4  t3_1834bpq     Kittlebeanfluff    kao3os8   \n",
       "\n",
       "                                                body      subreddit  \\\n",
       "0  Quality coffee and fancy chocolate. Can’t go w...          AskUK   \n",
       "1  It was smoked a lot more widely than I think y...  AskAnAmerican   \n",
       "2  I’m over two and a half years sober now, so I ...          AskUK   \n",
       "3  2 DualSense Controllers(one of them didnt arri...          AskUK   \n",
       "4                                      Cocaine then.          AskUK   \n",
       "\n",
       "    created_utc  collected_utc time_created  \n",
       "0  1.700895e+09   1.700895e+09     06:56:57  \n",
       "1  1.700895e+09   1.700895e+09     06:57:03  \n",
       "2  1.700895e+09   1.700895e+09     06:57:31  \n",
       "3  1.700895e+09   1.700895e+09     06:57:50  \n",
       "4  1.700896e+09   1.700896e+09     06:59:17  "
      ]
     },
     "execution_count": 102,
     "metadata": {},
     "output_type": "execute_result"
    }
   ],
   "source": [
    "df = pd.read_csv(\"UKandUS.csv\")\n",
    "df = df.drop(columns=[\"Unnamed: 0\"], axis=1)\n",
    "df['time_created'] = df['created_utc'].apply(lambda x: str(datetime.utcfromtimestamp(x)).split()[1])\n",
    "df.head()"
   ]
  },
  {
   "cell_type": "markdown",
   "id": "bef07dad",
   "metadata": {},
   "source": [
    "### Question 1.2"
   ]
  },
  {
   "cell_type": "markdown",
   "id": "6c63a5da",
   "metadata": {},
   "source": [
    "### Part 1"
   ]
  },
  {
   "cell_type": "code",
   "execution_count": 103,
   "id": "f7341186",
   "metadata": {},
   "outputs": [],
   "source": [
    "def tumbling(x):\n",
    "    twentymin = [20, 40, 60]\n",
    "    for i in twentymin:\n",
    "        if int(x) < i:\n",
    "            return i / 10\n",
    "    return 0"
   ]
  },
  {
   "cell_type": "code",
   "execution_count": 104,
   "id": "90dc342f",
   "metadata": {},
   "outputs": [],
   "source": [
    "def hopping(x):\n",
    "    fivemins = [5, 10, 15, 20, 25, 30, 35, 40, 45, 50, 55, 60]\n",
    "    for i in fivemins:\n",
    "        if int(x) < i:\n",
    "            return (i / 5)\n",
    "    return 0"
   ]
  },
  {
   "cell_type": "code",
   "execution_count": 105,
   "id": "9ac95cc9",
   "metadata": {},
   "outputs": [],
   "source": [
    "def get_unique_author(df, x, y):\n",
    "    for i in x:\n",
    "        eachtime = df.loc[df['20min_category'] == i]\n",
    "        numberunique = len(eachtime['author'].unique())\n",
    "        y.append(numberunique)"
   ]
  },
  {
   "cell_type": "code",
   "execution_count": 106,
   "id": "bef898ad",
   "metadata": {},
   "outputs": [],
   "source": [
    "def get_five_cats(df, times, x):\n",
    "    for i in times:\n",
    "        results = df.loc[df[\"5min_category\"] == i]\n",
    "        x.append(results['author'].count())"
   ]
  },
  {
   "cell_type": "code",
   "execution_count": 107,
   "id": "7cdb1c6e",
   "metadata": {},
   "outputs": [],
   "source": [
    "def get_twenty_cat(twenty, five):\n",
    "    for i in range(len(five)):\n",
    "        if i+4 == len(five):\n",
    "            break\n",
    "        twenty.append(sum(five[i:i+4]))"
   ]
  },
  {
   "cell_type": "code",
   "execution_count": 108,
   "id": "c8d894f4",
   "metadata": {},
   "outputs": [],
   "source": [
    "mins = df['time_created'].apply(lambda x: x.split(\":\")[1])\n",
    "hours = df['time_created'].apply(lambda x: x.split(\":\")[0])\n",
    "\n",
    "df['20min_category'] = hours.apply(lambda x: float(x)) + mins.apply(tumbling) / 10\n",
    "df['5min_category'] = hours.apply(lambda x: float(x)) + mins.apply(hopping) / 100"
   ]
  },
  {
   "cell_type": "code",
   "execution_count": 109,
   "id": "0cc1dfeb",
   "metadata": {},
   "outputs": [],
   "source": [
    "# hopping window\n",
    "\n",
    "dfUS = df[df['subreddit'] == \"AskAnAmerican\"]\n",
    "dfUK = df[df['subreddit'] == \"AskUK\"]\n",
    "\n",
    "xUS = dfUS['20min_category'].unique()\n",
    "xUK = dfUK['20min_category'].unique()\n",
    "\n",
    "yUS = []\n",
    "yUK = []\n",
    "\n",
    "get_unique_author(dfUK, xUK, yUK)\n",
    "get_unique_author(dfUS, xUS, yUS)"
   ]
  },
  {
   "cell_type": "code",
   "execution_count": 110,
   "id": "8cbdc336",
   "metadata": {},
   "outputs": [],
   "source": [
    "# sliding window\n",
    "\n",
    "mintimesUK = dfUK['5min_category'].unique()\n",
    "mintimesUS = dfUS['5min_category'].unique()\n",
    "\n",
    "UKfive = []\n",
    "USfive = []\n",
    "\n",
    "UKtwentys = []\n",
    "UStwentys = []\n",
    "\n",
    "get_five_cats(dfUK, mintimesUK, UKfive)\n",
    "get_five_cats(dfUS, mintimesUS, USfive)\n",
    "\n",
    "get_twenty_cat(UKtwentys, UKfive)\n",
    "get_twenty_cat(UStwentys, USfive)"
   ]
  },
  {
   "cell_type": "code",
   "execution_count": 111,
   "id": "fa2e4423",
   "metadata": {},
   "outputs": [
    {
     "name": "stdout",
     "output_type": "stream",
     "text": [
      "unique UK users per 20 minutes tumbling window\n"
     ]
    },
    {
     "data": {
      "image/png": "[encoded data removed]",
      "text/plain": [
       "<Figure size 432x288 with 1 Axes>"
      ]
     },
     "metadata": {
      "needs_background": "light"
     },
     "output_type": "display_data"
    },
    {
     "name": "stdout",
     "output_type": "stream",
     "text": [
      "unique US users per 20 minutes tumbling window\n"
     ]
    },
    {
     "data": {
      "image/png": "[encoded data removed]",
      "text/plain": [
       "<Figure size 432x288 with 1 Axes>"
      ]
     },
     "metadata": {
      "needs_background": "light"
     },
     "output_type": "display_data"
    }
   ],
   "source": [
    "print(\"unique UK users per 20 minutes tumbling window\")\n",
    "plt.plot(xUK, yUK)\n",
    "plt.show()\n",
    "\n",
    "print(\"unique US users per 20 minutes tumbling window\")\n",
    "plt.plot(xUS, yUS)\n",
    "plt.show()"
   ]
  },
  {
   "cell_type": "code",
   "execution_count": 112,
   "id": "edc1e66e",
   "metadata": {},
   "outputs": [
    {
     "name": "stdout",
     "output_type": "stream",
     "text": [
      "unique UK users per 20 minutes with 5 minute over lap window\n"
     ]
    },
    {
     "data": {
      "image/png": "[encoded data removed]",
      "text/plain": [
       "<Figure size 432x288 with 1 Axes>"
      ]
     },
     "metadata": {
      "needs_background": "light"
     },
     "output_type": "display_data"
    },
    {
     "name": "stdout",
     "output_type": "stream",
     "text": [
      "unique US users per 20 minutes with 5 minute over lap window\n"
     ]
    },
    {
     "data": {
      "image/png": "[encoded data removed]",
      "text/plain": [
       "<Figure size 432x288 with 1 Axes>"
      ]
     },
     "metadata": {
      "needs_background": "light"
     },
     "output_type": "display_data"
    }
   ],
   "source": [
    "print(\"unique UK users per 20 minutes with 5 minute over lap window\")\n",
    "plt.plot(UKtwentys)\n",
    "plt.show()\n",
    "\n",
    "print(\"unique US users per 20 minutes with 5 minute over lap window\")\n",
    "plt.plot(UStwentys)\n",
    "plt.show()"
   ]
  },
  {
   "cell_type": "markdown",
   "id": "61a336e7",
   "metadata": {},
   "source": [
    "# -----------change the axis to make sense-------------"
   ]
  },
  {
   "cell_type": "markdown",
   "id": "9fdbe97d",
   "metadata": {},
   "source": [
    "Q: Comment upon the differences you observed in the data comparing the two subreddits.\n",
    "\n",
    "A: The sliding window displays a more current update of active unique users in each subreddit; a more continuous representation of the comments being posted. The data was collected at 7am-12pm UK time therefore displays an increase of activity in the morning in the AskUK subreddit compared to low activity in AskAnAmerican subreddit which  would be asleep for the majority of the time data collected."
   ]
  },
  {
   "cell_type": "markdown",
   "id": "4d28b440",
   "metadata": {},
   "source": [
    "### Part 2"
   ]
  },
  {
   "cell_type": "code",
   "execution_count": 113,
   "id": "797d210f",
   "metadata": {},
   "outputs": [],
   "source": [
    "def count_word(x):\n",
    "    return len(x.split())"
   ]
  },
  {
   "cell_type": "code",
   "execution_count": 114,
   "id": "d3305449",
   "metadata": {},
   "outputs": [],
   "source": [
    "df['numWord'] = df['body'].apply(lambda x: count_word(x))"
   ]
  },
  {
   "cell_type": "code",
   "execution_count": 115,
   "id": "fca38489",
   "metadata": {},
   "outputs": [
    {
     "data": {
      "text/html": [
       "<div>\n",
       "<style scoped>\n",
       "    .dataframe tbody tr th:only-of-type {\n",
       "        vertical-align: middle;\n",
       "    }\n",
       "\n",
       "    .dataframe tbody tr th {\n",
       "        vertical-align: top;\n",
       "    }\n",
       "\n",
       "    .dataframe thead th {\n",
       "        text-align: right;\n",
       "    }\n",
       "</style>\n",
       "<table border=\"1\" class=\"dataframe\">\n",
       "  <thead>\n",
       "    <tr style=\"text-align: right;\">\n",
       "      <th></th>\n",
       "      <th>id</th>\n",
       "      <th>author</th>\n",
       "      <th>submission</th>\n",
       "      <th>body</th>\n",
       "      <th>subreddit</th>\n",
       "      <th>created_utc</th>\n",
       "      <th>collected_utc</th>\n",
       "      <th>time_created</th>\n",
       "      <th>20min_category</th>\n",
       "      <th>5min_category</th>\n",
       "      <th>numWord</th>\n",
       "    </tr>\n",
       "  </thead>\n",
       "  <tbody>\n",
       "    <tr>\n",
       "      <th>0</th>\n",
       "      <td>t3_1834bpq</td>\n",
       "      <td>Championnats91</td>\n",
       "      <td>kao3hv7</td>\n",
       "      <td>Quality coffee and fancy chocolate. Can’t go w...</td>\n",
       "      <td>AskUK</td>\n",
       "      <td>1.700895e+09</td>\n",
       "      <td>1.700895e+09</td>\n",
       "      <td>06:56:57</td>\n",
       "      <td>6.6</td>\n",
       "      <td>6.12</td>\n",
       "      <td>15</td>\n",
       "    </tr>\n",
       "    <tr>\n",
       "      <th>1</th>\n",
       "      <td>t3_182y2il</td>\n",
       "      <td>ProfitTheProphet</td>\n",
       "      <td>kao3i5j</td>\n",
       "      <td>It was smoked a lot more widely than I think y...</td>\n",
       "      <td>AskAnAmerican</td>\n",
       "      <td>1.700895e+09</td>\n",
       "      <td>1.700895e+09</td>\n",
       "      <td>06:57:03</td>\n",
       "      <td>6.6</td>\n",
       "      <td>6.12</td>\n",
       "      <td>119</td>\n",
       "    </tr>\n",
       "    <tr>\n",
       "      <th>2</th>\n",
       "      <td>t3_182ychd</td>\n",
       "      <td>Stuspawton</td>\n",
       "      <td>kao3jjy</td>\n",
       "      <td>I’m over two and a half years sober now, so I ...</td>\n",
       "      <td>AskUK</td>\n",
       "      <td>1.700895e+09</td>\n",
       "      <td>1.700895e+09</td>\n",
       "      <td>06:57:31</td>\n",
       "      <td>6.6</td>\n",
       "      <td>6.12</td>\n",
       "      <td>12</td>\n",
       "    </tr>\n",
       "    <tr>\n",
       "      <th>3</th>\n",
       "      <td>t3_18329v6</td>\n",
       "      <td>IngerasulBihorului</td>\n",
       "      <td>kao3kh2</td>\n",
       "      <td>2 DualSense Controllers(one of them didnt arri...</td>\n",
       "      <td>AskUK</td>\n",
       "      <td>1.700895e+09</td>\n",
       "      <td>1.700895e+09</td>\n",
       "      <td>06:57:50</td>\n",
       "      <td>6.6</td>\n",
       "      <td>6.12</td>\n",
       "      <td>37</td>\n",
       "    </tr>\n",
       "    <tr>\n",
       "      <th>4</th>\n",
       "      <td>t3_1834bpq</td>\n",
       "      <td>Kittlebeanfluff</td>\n",
       "      <td>kao3os8</td>\n",
       "      <td>Cocaine then.</td>\n",
       "      <td>AskUK</td>\n",
       "      <td>1.700896e+09</td>\n",
       "      <td>1.700896e+09</td>\n",
       "      <td>06:59:17</td>\n",
       "      <td>6.6</td>\n",
       "      <td>6.12</td>\n",
       "      <td>2</td>\n",
       "    </tr>\n",
       "  </tbody>\n",
       "</table>\n",
       "</div>"
      ],
      "text/plain": [
       "           id              author submission  \\\n",
       "0  t3_1834bpq      Championnats91    kao3hv7   \n",
       "1  t3_182y2il    ProfitTheProphet    kao3i5j   \n",
       "2  t3_182ychd          Stuspawton    kao3jjy   \n",
       "3  t3_18329v6  IngerasulBihorului    kao3kh2   \n",
       "4  t3_1834bpq     Kittlebeanfluff    kao3os8   \n",
       "\n",
       "                                                body      subreddit  \\\n",
       "0  Quality coffee and fancy chocolate. Can’t go w...          AskUK   \n",
       "1  It was smoked a lot more widely than I think y...  AskAnAmerican   \n",
       "2  I’m over two and a half years sober now, so I ...          AskUK   \n",
       "3  2 DualSense Controllers(one of them didnt arri...          AskUK   \n",
       "4                                      Cocaine then.          AskUK   \n",
       "\n",
       "    created_utc  collected_utc time_created  20min_category  5min_category  \\\n",
       "0  1.700895e+09   1.700895e+09     06:56:57             6.6           6.12   \n",
       "1  1.700895e+09   1.700895e+09     06:57:03             6.6           6.12   \n",
       "2  1.700895e+09   1.700895e+09     06:57:31             6.6           6.12   \n",
       "3  1.700895e+09   1.700895e+09     06:57:50             6.6           6.12   \n",
       "4  1.700896e+09   1.700896e+09     06:59:17             6.6           6.12   \n",
       "\n",
       "   numWord  \n",
       "0       15  \n",
       "1      119  \n",
       "2       12  \n",
       "3       37  \n",
       "4        2  "
      ]
     },
     "execution_count": 115,
     "metadata": {},
     "output_type": "execute_result"
    }
   ],
   "source": [
    "df.head()"
   ]
  },
  {
   "cell_type": "code",
   "execution_count": null,
   "id": "86e43140",
   "metadata": {},
   "outputs": [],
   "source": []
  }
 ],
 "metadata": {
  "kernelspec": {
   "display_name": "Python 3",
   "language": "python",
   "name": "python3"
  },
  "language_info": {
   "codemirror_mode": {
    "name": "ipython",
    "version": 3
   },
   "file_extension": ".py",
   "mimetype": "text/x-python",
   "name": "python",
   "nbconvert_exporter": "python",
   "pygments_lexer": "ipython3",
   "version": "3.8.8"
  }
 },
 "nbformat": 4,
 "nbformat_minor": 5
}
