{
 "cells": [
  {
   "cell_type": "code",
   "execution_count": 2,
   "id": "8ca32bcb",
   "metadata": {},
   "outputs": [],
   "source": [
    "import praw\n",
    "import json"
   ]
  },
  {
   "cell_type": "markdown",
   "id": "514ecf27",
   "metadata": {},
   "source": [
    "Don't forget that the `reddit_producer.py` should be running and listening."
   ]
  },
  {
   "cell_type": "code",
   "execution_count": 2,
   "id": "fdb6ba0a",
   "metadata": {},
   "outputs": [],
   "source": [
    "with open(\"config.json\", \"r\") as jsonfile:\n",
    "    data = json.load(jsonfile)  # Reading the config file\n",
    "#     print(\"Config data read successful\", data)"
   ]
  },
  {
   "cell_type": "code",
   "execution_count": 3,
   "id": "af84bea6",
   "metadata": {},
   "outputs": [
    {
     "name": "stdout",
     "output_type": "stream",
     "text": [
      "22/12/06 11:18:40 WARN Utils: Your hostname, Hugos-MacBook-Pro-2.local resolves to a loopback address: 127.0.0.1; using 10.173.9.203 instead (on interface en0)\n",
      "22/12/06 11:18:40 WARN Utils: Set SPARK_LOCAL_IP if you need to bind to another address\n"
     ]
    },
    {
     "name": "stderr",
     "output_type": "stream",
     "text": [
      "Setting default log level to \"WARN\".\n",
      "To adjust logging level use sc.setLogLevel(newLevel). For SparkR, use setLogLevel(newLevel).\n"
     ]
    },
    {
     "name": "stdout",
     "output_type": "stream",
     "text": [
      "22/12/06 11:18:41 WARN NativeCodeLoader: Unable to load native-hadoop library for your platform... using builtin-java classes where applicable\n"
     ]
    },
    {
     "name": "stderr",
     "output_type": "stream",
     "text": [
      "/Users/hugobarbosa/.pyenv/versions/anaconda3-5.3.1/lib/python3.7/site-packages/pyspark/sql/context.py:114: FutureWarning: Deprecated in 3.0.0. Use SparkSession.builder.getOrCreate() instead.\n",
      "  FutureWarning,\n"
     ]
    }
   ],
   "source": [
    "from collections import namedtuple  # Each element will be assigned a field\n",
    "import sys\n",
    "from pyspark import SparkContext, SparkConf\n",
    "from pyspark.streaming import StreamingContext\n",
    "from pyspark.sql import SparkSession,SQLContext\n",
    "# Allow us to order things in decscending order\n",
    "from pyspark.sql.functions import desc\n",
    "\n",
    "\n",
    "\n",
    "# create spark configuration\n",
    "conf = SparkConf()\n",
    "conf.setAppName(\"RedditStreamApp\")\n",
    "# create spark context with the above configuration\n",
    "sc = SparkContext(conf=conf)\n",
    "sc.setLogLevel(\"ERROR\")\n",
    "# create the Streaming Context from the above spark context with interval size 10 seconds\n",
    "ssc = StreamingContext(sc, 10)\n",
    "# setting a checkpoint to allow RDD recovery\n",
    "ssc.checkpoint(\"checkpoint_RedditApp\")\n",
    "# read data from port 5590\n",
    "# socket_stream = ssc.socketTextStream(\"localhost\", 5590)\n",
    "\n",
    "\n",
    "# sc = SparkContext() # Establish an entry point of Apache Spark functionality.\n",
    "# ssc = StreamingContext(sc, 10) # Create streaming context with intervals of 10 seconds.\n",
    "sqlContext = SQLContext(sc) # Initialising Spark SQL functionalities.\n",
    "\n",
    "socket_stream = ssc.socketTextStream(\"127.0.0.1\", 5590)\n"
   ]
  },
  {
   "cell_type": "code",
   "execution_count": 4,
   "id": "53970e97",
   "metadata": {},
   "outputs": [],
   "source": [
    "### Modify the code here to match your logic in reddit_producer.py\n",
    "lines = socket_stream.window(20)\n",
    "fields = (\"content\",'name')\n",
    "RedditComment = namedtuple('RedditComment', fields)"
   ]
  },
  {
   "cell_type": "code",
   "execution_count": 5,
   "id": "6fa2424c",
   "metadata": {},
   "outputs": [],
   "source": [
    "def get_sql_context_instance(spark_context):\n",
    "    if ('sqlContextSingletonInstance' not in globals()):\n",
    "        globals()['sqlContextSingletonInstance'] = SQLContext(spark_context)\n",
    "    return globals()['sqlContextSingletonInstance']\n",
    "\n",
    "\n",
    "def test_content(string):\n",
    "    print(string)\n",
    "    return eval(string)\n",
    "\n",
    "\n",
    "def process_rdd(time, rdd):\n",
    "    print(\"----------- %s -----------\" % str(time))\n",
    "    try:\n",
    "        # Get spark sql singleton context from the current context\n",
    "        sql_context = get_sql_context_instance(rdd.context)\n",
    "        ###################################################\n",
    "        #### modify the code below to match your logic ####\n",
    "        #### from the reddit_producer.py script        ####\n",
    "        ###################################################\n",
    "\n",
    "        row_rdd = rdd.map(lambda rec: RedditComment(rec['content'],rec['name']))\n",
    "        comments_df = sql_context.createDataFrame(row_rdd)\n",
    "        comments_df.registerTempTable(\"comments\")\n",
    "        comments_df_sql = sql_context.sql(\n",
    "            \"select * from comments limit 10\")\n",
    "        comments_df_sql.show()\n",
    "\n",
    "    except:\n",
    "        e = sys.exc_info()[0]\n",
    "        print(\"Error: %s\" % e)\n",
    "\n",
    "\n",
    "\n",
    "(lines.map(lambda text: test_content(text))\n",
    "    .foreachRDD(process_rdd)\n",
    "    )"
   ]
  },
  {
   "cell_type": "code",
   "execution_count": 6,
   "id": "433de608",
   "metadata": {
    "scrolled": true
   },
   "outputs": [
    {
     "name": "stderr",
     "output_type": "stream",
     "text": [
      "\r\n",
      "[Stage 0:>                                                          (0 + 1) / 1]\r"
     ]
    },
    {
     "name": "stdout",
     "output_type": "stream",
     "text": [
      "----------- 2022-12-06 11:18:50 -----------\n"
     ]
    },
    {
     "name": "stderr",
     "output_type": "stream",
     "text": [
      "{'content': 'what will be sent to spark', 'name': 'Hugo'}           (0 + 1) / 1]\n",
      "{'content': 'what will be sent to spark', 'name': 'Hugo'}\n",
      "{'content': 'what will be sent to spark', 'name': 'Hugo'}\n",
      "{'content': 'what will be sent to spark', 'name': 'Hugo'}\n",
      "{'content': 'what will be sent to spark', 'name': 'Hugo'}\n",
      "{'content': 'what will be sent to spark', 'name': 'Hugo'}\n",
      "{'content': 'what will be sent to spark', 'name': 'Hugo'}\n",
      "{'content': 'what will be sent to spark', 'name': 'Hugo'}\n",
      "{'content': 'what will be sent to spark', 'name': 'Hugo'}\n",
      "{'content': 'what will be sent to spark', 'name': 'Hugo'}\n",
      "{'content': 'what will be sent to spark', 'name': 'Hugo'}\n",
      "{'content': 'what will be sent to spark', 'name': 'Hugo'}\n",
      "{'content': 'what will be sent to spark', 'name': 'Hugo'}\n",
      "{'content': 'what will be sent to spark', 'name': 'Hugo'}\n",
      "{'content': 'what will be sent to spark', 'name': 'Hugo'}\n",
      "{'content': 'what will be sent to spark', 'name': 'Hugo'}\n",
      "{'content': 'what will be sent to spark', 'name': 'Hugo'}\n",
      "{'content': 'what will be sent to spark', 'name': 'Hugo'}\n",
      "{'content': 'what will be sent to spark', 'name': 'Hugo'}\n",
      "{'content': 'what will be sent to spark', 'name': 'Hugo'}\n",
      "{'content': 'what will be sent to spark', 'name': 'Hugo'}\n",
      "{'content': 'what will be sent to spark', 'name': 'Hugo'}\n",
      "{'content': 'what will be sent to spark', 'name': 'Hugo'}\n",
      "{'content': 'what will be sent to spark', 'name': 'Hugo'}\n",
      "{'content': 'what will be sent to spark', 'name': 'Hugo'}\n",
      "{'content': 'what will be sent to spark', 'name': 'Hugo'}\n",
      "{'content': 'what will be sent to spark', 'name': 'Hugo'}\n",
      "{'content': 'what will be sent to spark', 'name': 'Hugo'}\n",
      "{'content': 'what will be sent to spark', 'name': 'Hugo'}\n",
      "{'content': 'what will be sent to spark', 'name': 'Hugo'}\n",
      "{'content': 'what will be sent to spark', 'name': 'Hugo'}\n",
      "{'content': 'what will be sent to spark', 'name': 'Hugo'}\n",
      "{'content': 'what will be sent to spark', 'name': 'Hugo'}\n",
      "{'content': 'what will be sent to spark', 'name': 'Hugo'}\n",
      "{'content': 'what will be sent to spark', 'name': 'Hugo'}\n",
      "{'content': 'what will be sent to spark', 'name': 'Hugo'}\n",
      "{'content': 'what will be sent to spark', 'name': 'Hugo'}\n",
      "{'content': 'what will be sent to spark', 'name': 'Hugo'}\n",
      "{'content': 'what will be sent to spark', 'name': 'Hugo'}\n",
      "{'content': 'what will be sent to spark', 'name': 'Hugo'}\n",
      "{'content': 'what will be sent to spark', 'name': 'Hugo'}\n",
      "{'content': 'what will be sent to spark', 'name': 'Hugo'}\n",
      "{'content': 'what will be sent to spark', 'name': 'Hugo'}\n",
      "{'content': 'what will be sent to spark', 'name': 'Hugo'}\n",
      "{'content': 'what will be sent to spark', 'name': 'Hugo'}\n",
      "{'content': 'what will be sent to spark', 'name': 'Hugo'}\n",
      "{'content': 'what will be sent to spark', 'name': 'Hugo'}\n",
      "{'content': 'what will be sent to spark', 'name': 'Hugo'}\n",
      "{'content': 'what will be sent to spark', 'name': 'Hugo'}\n",
      "{'content': 'what will be sent to spark', 'name': 'Hugo'}\n",
      "{'content': 'what will be sent to spark', 'name': 'Hugo'}\n",
      "{'content': 'what will be sent to spark', 'name': 'Hugo'}\n",
      "{'content': 'what will be sent to spark', 'name': 'Hugo'}\n",
      "{'content': 'what will be sent to spark', 'name': 'Hugo'}\n",
      "{'content': 'what will be sent to spark', 'name': 'Hugo'}\n",
      "{'content': 'what will be sent to spark', 'name': 'Hugo'}\n",
      "{'content': 'what will be sent to spark', 'name': 'Hugo'}\n",
      "{'content': 'what will be sent to spark', 'name': 'Hugo'}\n",
      "{'content': 'what will be sent to spark', 'name': 'Hugo'}\n",
      "{'content': 'what will be sent to spark', 'name': 'Hugo'}\n",
      "{'content': 'what will be sent to spark', 'name': 'Hugo'}\n",
      "{'content': 'what will be sent to spark', 'name': 'Hugo'}\n",
      "{'content': 'what will be sent to spark', 'name': 'Hugo'}\n",
      "{'content': 'what will be sent to spark', 'name': 'Hugo'}\n",
      "{'content': 'what will be sent to spark', 'name': 'Hugo'}\n",
      "{'content': 'what will be sent to spark', 'name': 'Hugo'}\n",
      "{'content': 'what will be sent to spark', 'name': 'Hugo'}\n",
      "{'content': 'what will be sent to spark', 'name': 'Hugo'}\n",
      "{'content': 'what will be sent to spark', 'name': 'Hugo'}\n",
      "{'content': 'what will be sent to spark', 'name': 'Hugo'}\n",
      "{'content': 'what will be sent to spark', 'name': 'Hugo'}\n",
      "{'content': 'what will be sent to spark', 'name': 'Hugo'}\n",
      "{'content': 'what will be sent to spark', 'name': 'Hugo'}\n",
      "{'content': 'what will be sent to spark', 'name': 'Hugo'}\n",
      "{'content': 'what will be sent to spark', 'name': 'Hugo'}\n",
      "{'content': 'what will be sent to spark', 'name': 'Hugo'}\n",
      "{'content': 'what will be sent to spark', 'name': 'Hugo'}\n",
      "{'content': 'what will be sent to spark', 'name': 'Hugo'}\n",
      "{'content': 'what will be sent to spark', 'name': 'Hugo'}\n",
      "{'content': 'what will be sent to spark', 'name': 'Hugo'}\n",
      "{'content': 'what will be sent to spark', 'name': 'Hugo'}\n",
      "{'content': 'what will be sent to spark', 'name': 'Hugo'}\n",
      "{'content': 'what will be sent to spark', 'name': 'Hugo'}\n",
      "{'content': 'what will be sent to spark', 'name': 'Hugo'}\n",
      "{'content': 'what will be sent to spark', 'name': 'Hugo'}\n",
      "{'content': 'what will be sent to spark', 'name': 'Hugo'}\n",
      "{'content': 'what will be sent to spark', 'name': 'Hugo'}\n",
      "{'content': 'what will be sent to spark', 'name': 'Hugo'}\n",
      "{'content': 'what will be sent to spark', 'name': 'Hugo'}\n",
      "{'content': 'what will be sent to spark', 'name': 'Hugo'}\n",
      "{'content': 'what will be sent to spark', 'name': 'Hugo'}\n",
      "{'content': 'what will be sent to spark', 'name': 'Hugo'}\n",
      "{'content': 'what will be sent to spark', 'name': 'Hugo'}\n",
      "{'content': 'what will be sent to spark', 'name': 'Hugo'}\n",
      "{'content': 'what will be sent to spark', 'name': 'Hugo'}\n",
      "{'content': 'what will be sent to spark', 'name': 'Hugo'}\n",
      "{'content': 'what will be sent to spark', 'name': 'Hugo'}\n",
      "{'content': 'what will be sent to spark', 'name': 'Hugo'}\n",
      "{'content': 'what will be sent to spark', 'name': 'Hugo'}\n",
      "{'content': 'what will be sent to spark', 'name': 'Hugo'}\n",
      "/Users/hugobarbosa/.pyenv/versions/anaconda3-5.3.1/lib/python3.7/site-packages/pyspark/sql/dataframe.py:229: FutureWarning: Deprecated in 2.0, use createOrReplaceTempView instead.\n",
      "  warnings.warn(\"Deprecated in 2.0, use createOrReplaceTempView instead.\", FutureWarning)\n",
      "{'content': 'what will be sent to spark', 'name': 'Hugo'}\n",
      "{'content': 'what will be sent to spark', 'name': 'Hugo'}\n",
      "{'content': 'what will be sent to spark', 'name': 'Hugo'}\n",
      "{'content': 'what will be sent to spark', 'name': 'Hugo'}\n",
      "{'content': 'what will be sent to spark', 'name': 'Hugo'}\n",
      "{'content': 'what will be sent to spark', 'name': 'Hugo'}\n",
      "{'content': 'what will be sent to spark', 'name': 'Hugo'}\n",
      "{'content': 'what will be sent to spark', 'name': 'Hugo'}\n",
      "{'content': 'what will be sent to spark', 'name': 'Hugo'}\n",
      "{'content': 'what will be sent to spark', 'name': 'Hugo'}\n",
      "{'content': 'what will be sent to spark', 'name': 'Hugo'}\n",
      "{'content': 'what will be sent to spark', 'name': 'Hugo'}\n",
      "{'content': 'what will be sent to spark', 'name': 'Hugo'}\n",
      "{'content': 'what will be sent to spark', 'name': 'Hugo'}\n",
      "{'content': 'what will be sent to spark', 'name': 'Hugo'}\n",
      "{'content': 'what will be sent to spark', 'name': 'Hugo'}\n",
      "{'content': 'what will be sent to spark', 'name': 'Hugo'}\n",
      "{'content': 'what will be sent to spark', 'name': 'Hugo'}\n",
      "{'content': 'what will be sent to spark', 'name': 'Hugo'}\n",
      "{'content': 'what will be sent to spark', 'name': 'Hugo'}\n",
      "{'content': 'what will be sent to spark', 'name': 'Hugo'}\n",
      "{'content': 'what will be sent to spark', 'name': 'Hugo'}\n",
      "{'content': 'what will be sent to spark', 'name': 'Hugo'}\n",
      "{'content': 'what will be sent to spark', 'name': 'Hugo'}\n",
      "{'content': 'what will be sent to spark', 'name': 'Hugo'}\n",
      "{'content': 'what will be sent to spark', 'name': 'Hugo'}\n",
      "{'content': 'what will be sent to spark', 'name': 'Hugo'}\n",
      "{'content': 'what will be sent to spark', 'name': 'Hugo'}\n",
      "{'content': 'what will be sent to spark', 'name': 'Hugo'}\n",
      "{'content': 'what will be sent to spark', 'name': 'Hugo'}\n",
      "{'content': 'what will be sent to spark', 'name': 'Hugo'}\n",
      "{'content': 'what will be sent to spark', 'name': 'Hugo'}\n",
      "{'content': 'what will be sent to spark', 'name': 'Hugo'}\n",
      "{'content': 'what will be sent to spark', 'name': 'Hugo'}\n",
      "{'content': 'what will be sent to spark', 'name': 'Hugo'}\n",
      "{'content': 'what will be sent to spark', 'name': 'Hugo'}\n",
      "{'content': 'what will be sent to spark', 'name': 'Hugo'}\n",
      "{'content': 'what will be sent to spark', 'name': 'Hugo'}\n",
      "{'content': 'what will be sent to spark', 'name': 'Hugo'}\n",
      "{'content': 'what will be sent to spark', 'name': 'Hugo'}\n",
      "{'content': 'what will be sent to spark', 'name': 'Hugo'}\n",
      "{'content': 'what will be sent to spark', 'name': 'Hugo'}\n",
      "{'content': 'what will be sent to spark', 'name': 'Hugo'}\n",
      "{'content': 'what will be sent to spark', 'name': 'Hugo'}\n",
      "{'content': 'what will be sent to spark', 'name': 'Hugo'}\n",
      "{'content': 'what will be sent to spark', 'name': 'Hugo'}\n",
      "{'content': 'what will be sent to spark', 'name': 'Hugo'}\n",
      "{'content': 'what will be sent to spark', 'name': 'Hugo'}\n",
      "{'content': 'what will be sent to spark', 'name': 'Hugo'}\n",
      "{'content': 'what will be sent to spark', 'name': 'Hugo'}\n",
      "{'content': 'what will be sent to spark', 'name': 'Hugo'}\n",
      "{'content': 'what will be sent to spark', 'name': 'Hugo'}\n",
      "{'content': 'what will be sent to spark', 'name': 'Hugo'}\n",
      "{'content': 'what will be sent to spark', 'name': 'Hugo'}\n",
      "{'content': 'what will be sent to spark', 'name': 'Hugo'}\n",
      "{'content': 'what will be sent to spark', 'name': 'Hugo'}\n",
      "{'content': 'what will be sent to spark', 'name': 'Hugo'}\n",
      "{'content': 'what will be sent to spark', 'name': 'Hugo'}\n",
      "{'content': 'what will be sent to spark', 'name': 'Hugo'}\n",
      "{'content': 'what will be sent to spark', 'name': 'Hugo'}\n",
      "{'content': 'what will be sent to spark', 'name': 'Hugo'}\n",
      "{'content': 'what will be sent to spark', 'name': 'Hugo'}\n",
      "{'content': 'what will be sent to spark', 'name': 'Hugo'}\n",
      "{'content': 'what will be sent to spark', 'name': 'Hugo'}\n",
      "{'content': 'what will be sent to spark', 'name': 'Hugo'}\n",
      "{'content': 'what will be sent to spark', 'name': 'Hugo'}\n",
      "{'content': 'what will be sent to spark', 'name': 'Hugo'}\n",
      "{'content': 'what will be sent to spark', 'name': 'Hugo'}\n",
      "{'content': 'what will be sent to spark', 'name': 'Hugo'}\n",
      "{'content': 'what will be sent to spark', 'name': 'Hugo'}\n",
      "{'content': 'what will be sent to spark', 'name': 'Hugo'}\n",
      "{'content': 'what will be sent to spark', 'name': 'Hugo'}\n",
      "{'content': 'what will be sent to spark', 'name': 'Hugo'}\n",
      "{'content': 'what will be sent to spark', 'name': 'Hugo'}\n",
      "{'content': 'what will be sent to spark', 'name': 'Hugo'}\n",
      "{'content': 'what will be sent to spark', 'name': 'Hugo'}\n",
      "{'content': 'what will be sent to spark', 'name': 'Hugo'}\n",
      "{'content': 'what will be sent to spark', 'name': 'Hugo'}\n",
      "{'content': 'what will be sent to spark', 'name': 'Hugo'}\n",
      "{'content': 'what will be sent to spark', 'name': 'Hugo'}\n",
      "{'content': 'what will be sent to spark', 'name': 'Hugo'}\n",
      "{'content': 'what will be sent to spark', 'name': 'Hugo'}\n",
      "{'content': 'what will be sent to spark', 'name': 'Hugo'}\n",
      "{'content': 'what will be sent to spark', 'name': 'Hugo'}\n",
      "{'content': 'what will be sent to spark', 'name': 'Hugo'}\n",
      "{'content': 'what will be sent to spark', 'name': 'Hugo'}\n",
      "{'content': 'what will be sent to spark', 'name': 'Hugo'}\n",
      "{'content': 'what will be sent to spark', 'name': 'Hugo'}\n",
      "{'content': 'what will be sent to spark', 'name': 'Hugo'}\n",
      "{'content': 'what will be sent to spark', 'name': 'Hugo'}\n",
      "{'content': 'what will be sent to spark', 'name': 'Hugo'}\n",
      "{'content': 'what will be sent to spark', 'name': 'Hugo'}\n",
      "{'content': 'what will be sent to spark', 'name': 'Hugo'}\n",
      "{'content': 'what will be sent to spark', 'name': 'Hugo'}\n",
      "{'content': 'what will be sent to spark', 'name': 'Hugo'}\n",
      "{'content': 'what will be sent to spark', 'name': 'Hugo'}\n",
      "{'content': 'what will be sent to spark', 'name': 'Hugo'}\n",
      "{'content': 'what will be sent to spark', 'name': 'Hugo'}\n",
      "{'content': 'what will be sent to spark', 'name': 'Hugo'}\n",
      "{'content': 'what will be sent to spark', 'name': 'Hugo'}\n",
      "                                                                                \r"
     ]
    },
    {
     "name": "stdout",
     "output_type": "stream",
     "text": [
      "+--------------------+----+\n",
      "|             content|name|\n",
      "+--------------------+----+\n",
      "|what will be sent...|Hugo|\n",
      "|what will be sent...|Hugo|\n",
      "|what will be sent...|Hugo|\n",
      "|what will be sent...|Hugo|\n",
      "|what will be sent...|Hugo|\n",
      "|what will be sent...|Hugo|\n",
      "|what will be sent...|Hugo|\n",
      "|what will be sent...|Hugo|\n",
      "|what will be sent...|Hugo|\n",
      "|what will be sent...|Hugo|\n",
      "+--------------------+----+\n",
      "\n"
     ]
    },
    {
     "name": "stderr",
     "output_type": "stream",
     "text": [
      "\r\n",
      "[Stage 0:>                                                          (0 + 1) / 1]\r"
     ]
    },
    {
     "name": "stdout",
     "output_type": "stream",
     "text": [
      "----------- 2022-12-06 11:19:00 -----------\n"
     ]
    },
    {
     "name": "stderr",
     "output_type": "stream",
     "text": [
      "{'content': 'what will be sent to spark', 'name': 'Hugo'}\n",
      "{'content': 'what will be sent to spark', 'name': 'Hugo'}\n",
      "{'content': 'what will be sent to spark', 'name': 'Hugo'}\n",
      "{'content': 'what will be sent to spark', 'name': 'Hugo'}\n",
      "{'content': 'what will be sent to spark', 'name': 'Hugo'}\n",
      "{'content': 'what will be sent to spark', 'name': 'Hugo'}\n",
      "{'content': 'what will be sent to spark', 'name': 'Hugo'}\n",
      "{'content': 'what will be sent to spark', 'name': 'Hugo'}\n",
      "{'content': 'what will be sent to spark', 'name': 'Hugo'}\n",
      "{'content': 'what will be sent to spark', 'name': 'Hugo'}\n",
      "{'content': 'what will be sent to spark', 'name': 'Hugo'}\n",
      "{'content': 'what will be sent to spark', 'name': 'Hugo'}\n",
      "{'content': 'what will be sent to spark', 'name': 'Hugo'}\n",
      "{'content': 'what will be sent to spark', 'name': 'Hugo'}\n",
      "{'content': 'what will be sent to spark', 'name': 'Hugo'}\n",
      "{'content': 'what will be sent to spark', 'name': 'Hugo'}\n",
      "{'content': 'what will be sent to spark', 'name': 'Hugo'}\n",
      "{'content': 'what will be sent to spark', 'name': 'Hugo'}\n",
      "{'content': 'what will be sent to spark', 'name': 'Hugo'}\n",
      "{'content': 'what will be sent to spark', 'name': 'Hugo'}\n",
      "{'content': 'what will be sent to spark', 'name': 'Hugo'}\n",
      "{'content': 'what will be sent to spark', 'name': 'Hugo'}\n",
      "{'content': 'what will be sent to spark', 'name': 'Hugo'}\n",
      "{'content': 'what will be sent to spark', 'name': 'Hugo'}\n",
      "{'content': 'what will be sent to spark', 'name': 'Hugo'}\n",
      "{'content': 'what will be sent to spark', 'name': 'Hugo'}\n",
      "{'content': 'what will be sent to spark', 'name': 'Hugo'}\n",
      "{'content': 'what will be sent to spark', 'name': 'Hugo'}\n",
      "{'content': 'what will be sent to spark', 'name': 'Hugo'}\n",
      "{'content': 'what will be sent to spark', 'name': 'Hugo'}\n",
      "{'content': 'what will be sent to spark', 'name': 'Hugo'}\n",
      "{'content': 'what will be sent to spark', 'name': 'Hugo'}\n",
      "{'content': 'what will be sent to spark', 'name': 'Hugo'}\n",
      "{'content': 'what will be sent to spark', 'name': 'Hugo'}\n",
      "{'content': 'what will be sent to spark', 'name': 'Hugo'}\n",
      "{'content': 'what will be sent to spark', 'name': 'Hugo'}\n",
      "{'content': 'what will be sent to spark', 'name': 'Hugo'}\n",
      "{'content': 'what will be sent to spark', 'name': 'Hugo'}\n",
      "{'content': 'what will be sent to spark', 'name': 'Hugo'}\n",
      "{'content': 'what will be sent to spark', 'name': 'Hugo'}\n",
      "{'content': 'what will be sent to spark', 'name': 'Hugo'}\n",
      "{'content': 'what will be sent to spark', 'name': 'Hugo'}\n",
      "{'content': 'what will be sent to spark', 'name': 'Hugo'}\n",
      "{'content': 'what will be sent to spark', 'name': 'Hugo'}\n",
      "{'content': 'what will be sent to spark', 'name': 'Hugo'}\n",
      "{'content': 'what will be sent to spark', 'name': 'Hugo'}\n",
      "{'content': 'what will be sent to spark', 'name': 'Hugo'}\n",
      "{'content': 'what will be sent to spark', 'name': 'Hugo'}\n",
      "{'content': 'what will be sent to spark', 'name': 'Hugo'}\n",
      "{'content': 'what will be sent to spark', 'name': 'Hugo'}\n",
      "{'content': 'what will be sent to spark', 'name': 'Hugo'}\n",
      "{'content': 'what will be sent to spark', 'name': 'Hugo'}\n",
      "{'content': 'what will be sent to spark', 'name': 'Hugo'}\n",
      "{'content': 'what will be sent to spark', 'name': 'Hugo'}\n",
      "{'content': 'what will be sent to spark', 'name': 'Hugo'}\n",
      "{'content': 'what will be sent to spark', 'name': 'Hugo'}\n",
      "{'content': 'what will be sent to spark', 'name': 'Hugo'}\n",
      "{'content': 'what will be sent to spark', 'name': 'Hugo'}\n",
      "{'content': 'what will be sent to spark', 'name': 'Hugo'}\n",
      "{'content': 'what will be sent to spark', 'name': 'Hugo'}\n",
      "{'content': 'what will be sent to spark', 'name': 'Hugo'}\n",
      "{'content': 'what will be sent to spark', 'name': 'Hugo'}\n",
      "{'content': 'what will be sent to spark', 'name': 'Hugo'}\n",
      "{'content': 'what will be sent to spark', 'name': 'Hugo'}\n",
      "{'content': 'what will be sent to spark', 'name': 'Hugo'}\n",
      "{'content': 'what will be sent to spark', 'name': 'Hugo'}\n",
      "{'content': 'what will be sent to spark', 'name': 'Hugo'}\n",
      "{'content': 'what will be sent to spark', 'name': 'Hugo'}\n",
      "{'content': 'what will be sent to spark', 'name': 'Hugo'}\n",
      "{'content': 'what will be sent to spark', 'name': 'Hugo'}\n",
      "{'content': 'what will be sent to spark', 'name': 'Hugo'}\n",
      "{'content': 'what will be sent to spark', 'name': 'Hugo'}\n",
      "{'content': 'what will be sent to spark', 'name': 'Hugo'}\n",
      "{'content': 'what will be sent to spark', 'name': 'Hugo'}\n",
      "{'content': 'what will be sent to spark', 'name': 'Hugo'}\n",
      "{'content': 'what will be sent to spark', 'name': 'Hugo'}\n",
      "{'content': 'what will be sent to spark', 'name': 'Hugo'}\n",
      "{'content': 'what will be sent to spark', 'name': 'Hugo'}\n",
      "{'content': 'what will be sent to spark', 'name': 'Hugo'}\n",
      "{'content': 'what will be sent to spark', 'name': 'Hugo'}\n",
      "{'content': 'what will be sent to spark', 'name': 'Hugo'}\n",
      "{'content': 'what will be sent to spark', 'name': 'Hugo'}\n",
      "{'content': 'what will be sent to spark', 'name': 'Hugo'}\n",
      "{'content': 'what will be sent to spark', 'name': 'Hugo'}\n",
      "{'content': 'what will be sent to spark', 'name': 'Hugo'}\n",
      "{'content': 'what will be sent to spark', 'name': 'Hugo'}\n",
      "{'content': 'what will be sent to spark', 'name': 'Hugo'}\n",
      "{'content': 'what will be sent to spark', 'name': 'Hugo'}\n",
      "{'content': 'what will be sent to spark', 'name': 'Hugo'}\n",
      "{'content': 'what will be sent to spark', 'name': 'Hugo'}\n",
      "{'content': 'what will be sent to spark', 'name': 'Hugo'}\n",
      "{'content': 'what will be sent to spark', 'name': 'Hugo'}\n",
      "{'content': 'what will be sent to spark', 'name': 'Hugo'}\n",
      "{'content': 'what will be sent to spark', 'name': 'Hugo'}\n",
      "{'content': 'what will be sent to spark', 'name': 'Hugo'}\n",
      "{'content': 'what will be sent to spark', 'name': 'Hugo'}\n",
      "{'content': 'what will be sent to spark', 'name': 'Hugo'}\n",
      "{'content': 'what will be sent to spark', 'name': 'Hugo'}\n",
      "{'content': 'what will be sent to spark', 'name': 'Hugo'}\n",
      "{'content': 'what will be sent to spark', 'name': 'Hugo'}\n",
      "\r\n",
      "                                                                                \r\n",
      "{'content': 'what will be sent to spark', 'name': 'Hugo'}\n",
      "{'content': 'what will be sent to spark', 'name': 'Hugo'}\n",
      "{'content': 'what will be sent to spark', 'name': 'Hugo'}\n",
      "{'content': 'what will be sent to spark', 'name': 'Hugo'}\n",
      "{'content': 'what will be sent to spark', 'name': 'Hugo'}\n",
      "{'content': 'what will be sent to spark', 'name': 'Hugo'}\n",
      "{'content': 'what will be sent to spark', 'name': 'Hugo'}\n",
      "{'content': 'what will be sent to spark', 'name': 'Hugo'}\n",
      "{'content': 'what will be sent to spark', 'name': 'Hugo'}\n",
      "{'content': 'what will be sent to spark', 'name': 'Hugo'}\n",
      "{'content': 'what will be sent to spark', 'name': 'Hugo'}\n",
      "{'content': 'what will be sent to spark', 'name': 'Hugo'}\n",
      "{'content': 'what will be sent to spark', 'name': 'Hugo'}\n",
      "{'content': 'what will be sent to spark', 'name': 'Hugo'}\n",
      "{'content': 'what will be sent to spark', 'name': 'Hugo'}\n",
      "{'content': 'what will be sent to spark', 'name': 'Hugo'}\n",
      "{'content': 'what will be sent to spark', 'name': 'Hugo'}\n",
      "{'content': 'what will be sent to spark', 'name': 'Hugo'}\n",
      "{'content': 'what will be sent to spark', 'name': 'Hugo'}\n",
      "{'content': 'what will be sent to spark', 'name': 'Hugo'}\n",
      "{'content': 'what will be sent to spark', 'name': 'Hugo'}\n",
      "{'content': 'what will be sent to spark', 'name': 'Hugo'}\n",
      "{'content': 'what will be sent to spark', 'name': 'Hugo'}\n",
      "{'content': 'what will be sent to spark', 'name': 'Hugo'}\n",
      "{'content': 'what will be sent to spark', 'name': 'Hugo'}\n",
      "{'content': 'what will be sent to spark', 'name': 'Hugo'}\n",
      "{'content': 'what will be sent to spark', 'name': 'Hugo'}\n",
      "{'content': 'what will be sent to spark', 'name': 'Hugo'}\n",
      "{'content': 'what will be sent to spark', 'name': 'Hugo'}\n",
      "{'content': 'what will be sent to spark', 'name': 'Hugo'}\n",
      "{'content': 'what will be sent to spark', 'name': 'Hugo'}\n",
      "{'content': 'what will be sent to spark', 'name': 'Hugo'}\n",
      "{'content': 'what will be sent to spark', 'name': 'Hugo'}\n",
      "{'content': 'what will be sent to spark', 'name': 'Hugo'}\n",
      "{'content': 'what will be sent to spark', 'name': 'Hugo'}\n",
      "{'content': 'what will be sent to spark', 'name': 'Hugo'}\n",
      "{'content': 'what will be sent to spark', 'name': 'Hugo'}\n",
      "{'content': 'what will be sent to spark', 'name': 'Hugo'}\n",
      "{'content': 'what will be sent to spark', 'name': 'Hugo'}\n",
      "{'content': 'what will be sent to spark', 'name': 'Hugo'}\n",
      "{'content': 'what will be sent to spark', 'name': 'Hugo'}\n",
      "{'content': 'what will be sent to spark', 'name': 'Hugo'}\n",
      "{'content': 'what will be sent to spark', 'name': 'Hugo'}\n",
      "{'content': 'what will be sent to spark', 'name': 'Hugo'}\n",
      "{'content': 'what will be sent to spark', 'name': 'Hugo'}\n",
      "{'content': 'what will be sent to spark', 'name': 'Hugo'}\n",
      "{'content': 'what will be sent to spark', 'name': 'Hugo'}\n",
      "{'content': 'what will be sent to spark', 'name': 'Hugo'}\n",
      "{'content': 'what will be sent to spark', 'name': 'Hugo'}\n",
      "{'content': 'what will be sent to spark', 'name': 'Hugo'}\n",
      "{'content': 'what will be sent to spark', 'name': 'Hugo'}\n",
      "{'content': 'what will be sent to spark', 'name': 'Hugo'}\n",
      "{'content': 'what will be sent to spark', 'name': 'Hugo'}\n",
      "{'content': 'what will be sent to spark', 'name': 'Hugo'}\n",
      "{'content': 'what will be sent to spark', 'name': 'Hugo'}\n",
      "{'content': 'what will be sent to spark', 'name': 'Hugo'}\n",
      "{'content': 'what will be sent to spark', 'name': 'Hugo'}\n",
      "{'content': 'what will be sent to spark', 'name': 'Hugo'}\n",
      "{'content': 'what will be sent to spark', 'name': 'Hugo'}\n",
      "{'content': 'what will be sent to spark', 'name': 'Hugo'}\n",
      "{'content': 'what will be sent to spark', 'name': 'Hugo'}\n",
      "{'content': 'what will be sent to spark', 'name': 'Hugo'}\n",
      "{'content': 'what will be sent to spark', 'name': 'Hugo'}\n",
      "{'content': 'what will be sent to spark', 'name': 'Hugo'}\n",
      "{'content': 'what will be sent to spark', 'name': 'Hugo'}\n",
      "{'content': 'what will be sent to spark', 'name': 'Hugo'}\n",
      "{'content': 'what will be sent to spark', 'name': 'Hugo'}\n",
      "{'content': 'what will be sent to spark', 'name': 'Hugo'}\n",
      "{'content': 'what will be sent to spark', 'name': 'Hugo'}\n",
      "{'content': 'what will be sent to spark', 'name': 'Hugo'}\n",
      "{'content': 'what will be sent to spark', 'name': 'Hugo'}\n",
      "{'content': 'what will be sent to spark', 'name': 'Hugo'}\n",
      "{'content': 'what will be sent to spark', 'name': 'Hugo'}\n",
      "{'content': 'what will be sent to spark', 'name': 'Hugo'}\n",
      "{'content': 'what will be sent to spark', 'name': 'Hugo'}\n",
      "{'content': 'what will be sent to spark', 'name': 'Hugo'}\n",
      "{'content': 'what will be sent to spark', 'name': 'Hugo'}\n",
      "{'content': 'what will be sent to spark', 'name': 'Hugo'}\n",
      "{'content': 'what will be sent to spark', 'name': 'Hugo'}\n",
      "{'content': 'what will be sent to spark', 'name': 'Hugo'}\n",
      "{'content': 'what will be sent to spark', 'name': 'Hugo'}\n",
      "{'content': 'what will be sent to spark', 'name': 'Hugo'}\n",
      "{'content': 'what will be sent to spark', 'name': 'Hugo'}\n",
      "{'content': 'what will be sent to spark', 'name': 'Hugo'}\n",
      "{'content': 'what will be sent to spark', 'name': 'Hugo'}\n",
      "{'content': 'what will be sent to spark', 'name': 'Hugo'}\n",
      "{'content': 'what will be sent to spark', 'name': 'Hugo'}\n",
      "{'content': 'what will be sent to spark', 'name': 'Hugo'}\n",
      "{'content': 'what will be sent to spark', 'name': 'Hugo'}\n",
      "{'content': 'what will be sent to spark', 'name': 'Hugo'}\n",
      "{'content': 'what will be sent to spark', 'name': 'Hugo'}\n",
      "{'content': 'what will be sent to spark', 'name': 'Hugo'}\n",
      "{'content': 'what will be sent to spark', 'name': 'Hugo'}\n",
      "{'content': 'what will be sent to spark', 'name': 'Hugo'}\n",
      "{'content': 'what will be sent to spark', 'name': 'Hugo'}\n",
      "{'content': 'what will be sent to spark', 'name': 'Hugo'}\n",
      "{'content': 'what will be sent to spark', 'name': 'Hugo'}\n",
      "{'content': 'what will be sent to spark', 'name': 'Hugo'}\n",
      "{'content': 'what will be sent to spark', 'name': 'Hugo'}\n",
      "{'content': 'what will be sent to spark', 'name': 'Hugo'}\n"
     ]
    },
    {
     "name": "stdout",
     "output_type": "stream",
     "text": [
      "+--------------------+----+\n",
      "|             content|name|\n",
      "+--------------------+----+\n",
      "|what will be sent...|Hugo|\n",
      "|what will be sent...|Hugo|\n",
      "|what will be sent...|Hugo|\n",
      "|what will be sent...|Hugo|\n",
      "|what will be sent...|Hugo|\n",
      "|what will be sent...|Hugo|\n",
      "|what will be sent...|Hugo|\n",
      "|what will be sent...|Hugo|\n",
      "|what will be sent...|Hugo|\n",
      "|what will be sent...|Hugo|\n",
      "+--------------------+----+\n",
      "\n"
     ]
    },
    {
     "name": "stderr",
     "output_type": "stream",
     "text": [
      "\r\n",
      "[Stage 0:>                                                          (0 + 1) / 1]\r"
     ]
    },
    {
     "name": "stdout",
     "output_type": "stream",
     "text": [
      "----------- 2022-12-06 11:19:10 -----------\n"
     ]
    },
    {
     "name": "stderr",
     "output_type": "stream",
     "text": [
      "{'content': 'what will be sent to spark', 'name': 'Hugo'}\n",
      "{'content': 'what will be sent to spark', 'name': 'Hugo'}                       \n",
      "{'content': 'what will be sent to spark', 'name': 'Hugo'}\n",
      "{'content': 'what will be sent to spark', 'name': 'Hugo'}\n",
      "{'content': 'what will be sent to spark', 'name': 'Hugo'}\n",
      "{'content': 'what will be sent to spark', 'name': 'Hugo'}\n",
      "{'content': 'what will be sent to spark', 'name': 'Hugo'}\n",
      "{'content': 'what will be sent to spark', 'name': 'Hugo'}\n",
      "{'content': 'what will be sent to spark', 'name': 'Hugo'}\n",
      "{'content': 'what will be sent to spark', 'name': 'Hugo'}\n",
      "{'content': 'what will be sent to spark', 'name': 'Hugo'}\n"
     ]
    },
    {
     "name": "stdout",
     "output_type": "stream",
     "text": [
      "+--------------------+----+\n",
      "|             content|name|\n",
      "+--------------------+----+\n",
      "|what will be sent...|Hugo|\n",
      "|what will be sent...|Hugo|\n",
      "|what will be sent...|Hugo|\n",
      "|what will be sent...|Hugo|\n",
      "|what will be sent...|Hugo|\n",
      "|what will be sent...|Hugo|\n",
      "|what will be sent...|Hugo|\n",
      "|what will be sent...|Hugo|\n",
      "|what will be sent...|Hugo|\n",
      "|what will be sent...|Hugo|\n",
      "+--------------------+----+\n",
      "\n"
     ]
    },
    {
     "name": "stderr",
     "output_type": "stream",
     "text": [
      "\r\n",
      "[Stage 0:>                                                          (0 + 1) / 1]\r"
     ]
    },
    {
     "name": "stdout",
     "output_type": "stream",
     "text": [
      "----------- 2022-12-06 11:19:20 -----------\n"
     ]
    },
    {
     "name": "stderr",
     "output_type": "stream",
     "text": [
      "{'content': 'what will be sent to spark', 'name': 'Hugo'}\n",
      "{'content': 'what will be sent to spark', 'name': 'Hugo'}                       \n",
      "{'content': 'what will be sent to spark', 'name': 'Hugo'}{'content': 'what will be sent to spark', 'name': 'Hugo'}\n",
      "\n",
      "{'content': 'what will be sent to spark', 'name': 'Hugo'}{'content': 'what will be sent to spark', 'name': 'Hugo'}\n",
      "\n",
      "{'content': 'what will be sent to spark', 'name': 'Hugo'}\n",
      "{'content': 'what will be sent to spark', 'name': 'Hugo'}\n"
     ]
    },
    {
     "name": "stdout",
     "output_type": "stream",
     "text": [
      "+--------------------+----+\n",
      "|             content|name|\n",
      "+--------------------+----+\n",
      "|what will be sent...|Hugo|\n",
      "|what will be sent...|Hugo|\n",
      "|what will be sent...|Hugo|\n",
      "|what will be sent...|Hugo|\n",
      "|what will be sent...|Hugo|\n",
      "|what will be sent...|Hugo|\n",
      "|what will be sent...|Hugo|\n",
      "+--------------------+----+\n",
      "\n"
     ]
    },
    {
     "name": "stderr",
     "output_type": "stream",
     "text": [
      "\r\n",
      "[Stage 0:>                                                          (0 + 1) / 1]\r"
     ]
    },
    {
     "name": "stdout",
     "output_type": "stream",
     "text": [
      "----------- 2022-12-06 11:19:30 -----------\n"
     ]
    },
    {
     "name": "stderr",
     "output_type": "stream",
     "text": [
      "{'content': 'what will be sent to spark', 'name': 'Hugo'}\n",
      "\r\n",
      "                                                                                \r\n",
      "{'content': 'what will be sent to spark', 'name': 'Hugo'}\n",
      "{'content': 'what will be sent to spark', 'name': 'Hugo'}\n",
      "{'content': 'what will be sent to spark', 'name': 'Hugo'}\n",
      "{'content': 'what will be sent to spark', 'name': 'Hugo'}\n",
      "{'content': 'what will be sent to spark', 'name': 'Hugo'}\n"
     ]
    },
    {
     "name": "stdout",
     "output_type": "stream",
     "text": [
      "+--------------------+----+\n",
      "|             content|name|\n",
      "+--------------------+----+\n",
      "|what will be sent...|Hugo|\n",
      "|what will be sent...|Hugo|\n",
      "|what will be sent...|Hugo|\n",
      "|what will be sent...|Hugo|\n",
      "|what will be sent...|Hugo|\n",
      "+--------------------+----+\n",
      "\n"
     ]
    },
    {
     "name": "stderr",
     "output_type": "stream",
     "text": [
      "\r\n",
      "[Stage 0:>                                                          (0 + 1) / 1]\r"
     ]
    },
    {
     "name": "stdout",
     "output_type": "stream",
     "text": [
      "----------- 2022-12-06 11:19:40 -----------\n"
     ]
    },
    {
     "name": "stderr",
     "output_type": "stream",
     "text": [
      "{'content': 'what will be sent to spark', 'name': 'Hugo'}\n",
      "{'content': 'what will be sent to spark', 'name': 'Hugo'}\n",
      "\r\n",
      "                                                                                \r\n",
      "{'content': 'what will be sent to spark', 'name': 'Hugo'}\n",
      "{'content': 'what will be sent to spark', 'name': 'Hugo'}\n",
      "{'content': 'what will be sent to spark', 'name': 'Hugo'}\n",
      "{'content': 'what will be sent to spark', 'name': 'Hugo'}\n",
      "{'content': 'what will be sent to spark', 'name': 'Hugo'}{'content': 'what will be sent to spark', 'name': 'Hugo'}\n",
      "\n",
      "{'content': 'what will be sent to spark', 'name': 'Hugo'}{'content': 'what will be sent to spark', 'name': 'Hugo'}\n",
      "\n"
     ]
    },
    {
     "name": "stdout",
     "output_type": "stream",
     "text": [
      "+--------------------+----+\n",
      "|             content|name|\n",
      "+--------------------+----+\n",
      "|what will be sent...|Hugo|\n",
      "|what will be sent...|Hugo|\n",
      "|what will be sent...|Hugo|\n",
      "|what will be sent...|Hugo|\n",
      "|what will be sent...|Hugo|\n",
      "|what will be sent...|Hugo|\n",
      "|what will be sent...|Hugo|\n",
      "|what will be sent...|Hugo|\n",
      "+--------------------+----+\n",
      "\n"
     ]
    },
    {
     "name": "stderr",
     "output_type": "stream",
     "text": [
      "\r\n",
      "[Stage 0:>                                                          (0 + 1) / 1]\r"
     ]
    },
    {
     "name": "stdout",
     "output_type": "stream",
     "text": [
      "----------- 2022-12-06 11:19:50 -----------\n"
     ]
    },
    {
     "name": "stderr",
     "output_type": "stream",
     "text": [
      "{'content': 'what will be sent to spark', 'name': 'Hugo'}\n",
      "{'content': 'what will be sent to spark', 'name': 'Hugo'}\n",
      "\r\n",
      "                                                                                \r\n",
      "{'content': 'what will be sent to spark', 'name': 'Hugo'}\n",
      "{'content': 'what will be sent to spark', 'name': 'Hugo'}\n",
      "{'content': 'what will be sent to spark', 'name': 'Hugo'}\n",
      "{'content': 'what will be sent to spark', 'name': 'Hugo'}\n",
      "{'content': 'what will be sent to spark', 'name': 'Hugo'}\n",
      "{'content': 'what will be sent to spark', 'name': 'Hugo'}\n",
      "{'content': 'what will be sent to spark', 'name': 'Hugo'}\n",
      "{'content': 'what will be sent to spark', 'name': 'Hugo'}\n"
     ]
    },
    {
     "name": "stdout",
     "output_type": "stream",
     "text": [
      "+--------------------+----+\n",
      "|             content|name|\n",
      "+--------------------+----+\n",
      "|what will be sent...|Hugo|\n",
      "|what will be sent...|Hugo|\n",
      "|what will be sent...|Hugo|\n",
      "|what will be sent...|Hugo|\n",
      "|what will be sent...|Hugo|\n",
      "|what will be sent...|Hugo|\n",
      "|what will be sent...|Hugo|\n",
      "|what will be sent...|Hugo|\n",
      "+--------------------+----+\n",
      "\n"
     ]
    },
    {
     "name": "stderr",
     "output_type": "stream",
     "text": [
      "\r\n",
      "[Stage 0:>                                                          (0 + 1) / 1]\r"
     ]
    },
    {
     "name": "stdout",
     "output_type": "stream",
     "text": [
      "----------- 2022-12-06 11:20:00 -----------\n"
     ]
    },
    {
     "name": "stderr",
     "output_type": "stream",
     "text": [
      "{'content': 'what will be sent to spark', 'name': 'Hugo'}\n",
      "\r\n",
      "                                                                                \r\n",
      "{'content': 'what will be sent to spark', 'name': 'Hugo'}\n",
      "{'content': 'what will be sent to spark', 'name': 'Hugo'}\n",
      "{'content': 'what will be sent to spark', 'name': 'Hugo'}\n",
      "{'content': 'what will be sent to spark', 'name': 'Hugo'}\n",
      "{'content': 'what will be sent to spark', 'name': 'Hugo'}\n",
      "{'content': 'what will be sent to spark', 'name': 'Hugo'}\n",
      "{'content': 'what will be sent to spark', 'name': 'Hugo'}\n",
      "{'content': 'what will be sent to spark', 'name': 'Hugo'}\n",
      "{'content': 'what will be sent to spark', 'name': 'Hugo'}\n",
      "{'content': 'what will be sent to spark', 'name': 'Hugo'}\n"
     ]
    },
    {
     "name": "stdout",
     "output_type": "stream",
     "text": [
      "+--------------------+----+\n",
      "|             content|name|\n",
      "+--------------------+----+\n",
      "|what will be sent...|Hugo|\n",
      "|what will be sent...|Hugo|\n",
      "|what will be sent...|Hugo|\n",
      "|what will be sent...|Hugo|\n",
      "|what will be sent...|Hugo|\n",
      "|what will be sent...|Hugo|\n",
      "|what will be sent...|Hugo|\n",
      "|what will be sent...|Hugo|\n",
      "|what will be sent...|Hugo|\n",
      "|what will be sent...|Hugo|\n",
      "+--------------------+----+\n",
      "\n"
     ]
    },
    {
     "name": "stderr",
     "output_type": "stream",
     "text": [
      "\r\n",
      "[Stage 0:>                                                          (0 + 1) / 1]\r"
     ]
    },
    {
     "name": "stdout",
     "output_type": "stream",
     "text": [
      "----------- 2022-12-06 11:20:10 -----------\n",
      "+--------------------+----+\n",
      "|             content|name|\n",
      "+--------------------+----+\n",
      "|what will be sent...|Hugo|\n",
      "|what will be sent...|Hugo|\n",
      "|what will be sent...|Hugo|\n",
      "|what will be sent...|Hugo|\n",
      "|what will be sent...|Hugo|\n",
      "|what will be sent...|Hugo|\n",
      "+--------------------+----+\n",
      "\n"
     ]
    },
    {
     "name": "stderr",
     "output_type": "stream",
     "text": [
      "{'content': 'what will be sent to spark', 'name': 'Hugo'}\n",
      "{'content': 'what will be sent to spark', 'name': 'Hugo'}\n",
      "{'content': 'what will be sent to spark', 'name': 'Hugo'}\n",
      "{'content': 'what will be sent to spark', 'name': 'Hugo'}\n",
      "{'content': 'what will be sent to spark', 'name': 'Hugo'}\n",
      "{'content': 'what will be sent to spark', 'name': 'Hugo'}                       \n",
      "{'content': 'what will be sent to spark', 'name': 'Hugo'}\n",
      "{'content': 'what will be sent to spark', 'name': 'Hugo'}\n",
      "{'content': 'what will be sent to spark', 'name': 'Hugo'}\n",
      "{'content': 'what will be sent to spark', 'name': 'Hugo'}\n",
      "{'content': 'what will be sent to spark', 'name': 'Hugo'}\n",
      "[Stage 0:>                                                          (0 + 1) / 1]\r"
     ]
    },
    {
     "name": "stdout",
     "output_type": "stream",
     "text": [
      "----------- 2022-12-06 11:20:20 -----------\n",
      "+--------------------+----+\n",
      "|             content|name|\n",
      "+--------------------+----+\n",
      "|what will be sent...|Hugo|\n",
      "|what will be sent...|Hugo|\n",
      "+--------------------+----+\n",
      "\n"
     ]
    },
    {
     "name": "stderr",
     "output_type": "stream",
     "text": [
      "{'content': 'what will be sent to spark', 'name': 'Hugo'}\n",
      "{'content': 'what will be sent to spark', 'name': 'Hugo'}\n",
      "{'content': 'what will be sent to spark', 'name': 'Hugo'}                       \n",
      "{'content': 'what will be sent to spark', 'name': 'Hugo'}\n",
      "[Stage 0:>                                                          (0 + 1) / 1]\r"
     ]
    },
    {
     "name": "stdout",
     "output_type": "stream",
     "text": [
      "----------- 2022-12-06 11:20:30 -----------\n",
      "+--------------------+----+\n",
      "|             content|name|\n",
      "+--------------------+----+\n",
      "|what will be sent...|Hugo|\n",
      "|what will be sent...|Hugo|\n",
      "|what will be sent...|Hugo|\n",
      "|what will be sent...|Hugo|\n",
      "|what will be sent...|Hugo|\n",
      "+--------------------+----+\n",
      "\n"
     ]
    },
    {
     "name": "stderr",
     "output_type": "stream",
     "text": [
      "{'content': 'what will be sent to spark', 'name': 'Hugo'}\n",
      "{'content': 'what will be sent to spark', 'name': 'Hugo'}\n",
      "{'content': 'what will be sent to spark', 'name': 'Hugo'}                       \n",
      "{'content': 'what will be sent to spark', 'name': 'Hugo'}\n",
      "{'content': 'what will be sent to spark', 'name': 'Hugo'}\n",
      "{'content': 'what will be sent to spark', 'name': 'Hugo'}\n",
      "{'content': 'what will be sent to spark', 'name': 'Hugo'}\n",
      "[Stage 0:>                                                          (0 + 1) / 1]\r"
     ]
    },
    {
     "name": "stdout",
     "output_type": "stream",
     "text": [
      "----------- 2022-12-06 11:20:40 -----------\n",
      "+--------------------+----+\n",
      "|             content|name|\n",
      "+--------------------+----+\n",
      "|what will be sent...|Hugo|\n",
      "|what will be sent...|Hugo|\n",
      "|what will be sent...|Hugo|\n",
      "|what will be sent...|Hugo|\n",
      "+--------------------+----+\n",
      "\n"
     ]
    },
    {
     "name": "stderr",
     "output_type": "stream",
     "text": [
      "{'content': 'what will be sent to spark', 'name': 'Hugo'}\n",
      "{'content': 'what will be sent to spark', 'name': 'Hugo'}\n",
      "{'content': 'what will be sent to spark', 'name': 'Hugo'}\n",
      "{'content': 'what will be sent to spark', 'name': 'Hugo'}                       \n",
      "{'content': 'what will be sent to spark', 'name': 'Hugo'}\n",
      "{'content': 'what will be sent to spark', 'name': 'Hugo'}\n",
      "{'content': 'what will be sent to spark', 'name': 'Hugo'}\n",
      "[Stage 0:>                                                          (0 + 1) / 1]\r"
     ]
    },
    {
     "name": "stdout",
     "output_type": "stream",
     "text": [
      "----------- 2022-12-06 11:20:50 -----------\n",
      "+--------------------+----+\n",
      "|             content|name|\n",
      "+--------------------+----+\n",
      "|what will be sent...|Hugo|\n",
      "|what will be sent...|Hugo|\n",
      "+--------------------+----+\n",
      "\n"
     ]
    },
    {
     "name": "stderr",
     "output_type": "stream",
     "text": [
      "{'content': 'what will be sent to spark', 'name': 'Hugo'}\n",
      "{'content': 'what will be sent to spark', 'name': 'Hugo'}                       \n",
      "{'content': 'what will be sent to spark', 'name': 'Hugo'}\n",
      "[Stage 0:>                                                          (0 + 1) / 1]\r"
     ]
    },
    {
     "name": "stdout",
     "output_type": "stream",
     "text": [
      "----------- 2022-12-06 11:21:00 -----------\n",
      "+--------------------+----+\n",
      "|             content|name|\n",
      "+--------------------+----+\n",
      "|what will be sent...|Hugo|\n",
      "|what will be sent...|Hugo|\n",
      "|what will be sent...|Hugo|\n",
      "|what will be sent...|Hugo|\n",
      "|what will be sent...|Hugo|\n",
      "|what will be sent...|Hugo|\n",
      "+--------------------+----+\n",
      "\n"
     ]
    },
    {
     "name": "stderr",
     "output_type": "stream",
     "text": [
      "{'content': 'what will be sent to spark', 'name': 'Hugo'}\n",
      "{'content': 'what will be sent to spark', 'name': 'Hugo'}                       \n",
      "{'content': 'what will be sent to spark', 'name': 'Hugo'}\n",
      "{'content': 'what will be sent to spark', 'name': 'Hugo'}\n",
      "{'content': 'what will be sent to spark', 'name': 'Hugo'}\n",
      "{'content': 'what will be sent to spark', 'name': 'Hugo'}\n",
      "{'content': 'what will be sent to spark', 'name': 'Hugo'}\n",
      "[Stage 0:>                                                          (0 + 1) / 1]\r"
     ]
    },
    {
     "name": "stdout",
     "output_type": "stream",
     "text": [
      "----------- 2022-12-06 11:21:10 -----------\n",
      "+--------------------+----+\n",
      "|             content|name|\n",
      "+--------------------+----+\n",
      "|what will be sent...|Hugo|\n",
      "|what will be sent...|Hugo|\n",
      "|what will be sent...|Hugo|\n",
      "|what will be sent...|Hugo|\n",
      "|what will be sent...|Hugo|\n",
      "|what will be sent...|Hugo|\n",
      "+--------------------+----+\n",
      "\n"
     ]
    },
    {
     "name": "stderr",
     "output_type": "stream",
     "text": [
      "{'content': 'what will be sent to spark', 'name': 'Hugo'}\n",
      "{'content': 'what will be sent to spark', 'name': 'Hugo'}\n",
      "{'content': 'what will be sent to spark', 'name': 'Hugo'}\n",
      "{'content': 'what will be sent to spark', 'name': 'Hugo'}\n",
      "{'content': 'what will be sent to spark', 'name': 'Hugo'}\n",
      "{'content': 'what will be sent to spark', 'name': 'Hugo'}                       \n",
      "{'content': 'what will be sent to spark', 'name': 'Hugo'}\n",
      "{'content': 'what will be sent to spark', 'name': 'Hugo'}\n",
      "{'content': 'what will be sent to spark', 'name': 'Hugo'}\n",
      "{'content': 'what will be sent to spark', 'name': 'Hugo'}\n",
      "{'content': 'what will be sent to spark', 'name': 'Hugo'}\n",
      "[Stage 0:>                                                          (0 + 1) / 1]\r"
     ]
    },
    {
     "name": "stdout",
     "output_type": "stream",
     "text": [
      "----------- 2022-12-06 11:21:20 -----------\n",
      "+--------------------+----+\n",
      "|             content|name|\n",
      "+--------------------+----+\n",
      "|what will be sent...|Hugo|\n",
      "|what will be sent...|Hugo|\n",
      "|what will be sent...|Hugo|\n",
      "|what will be sent...|Hugo|\n",
      "|what will be sent...|Hugo|\n",
      "+--------------------+----+\n",
      "\n"
     ]
    },
    {
     "name": "stderr",
     "output_type": "stream",
     "text": [
      "{'content': 'what will be sent to spark', 'name': 'Hugo'}\n",
      "{'content': 'what will be sent to spark', 'name': 'Hugo'}                       \n",
      "{'content': 'what will be sent to spark', 'name': 'Hugo'}\n",
      "{'content': 'what will be sent to spark', 'name': 'Hugo'}\n",
      "{'content': 'what will be sent to spark', 'name': 'Hugo'}\n",
      "{'content': 'what will be sent to spark', 'name': 'Hugo'}\n",
      "[Stage 0:>                                                          (0 + 1) / 1]\r"
     ]
    },
    {
     "name": "stdout",
     "output_type": "stream",
     "text": [
      "----------- 2022-12-06 11:21:30 -----------\n",
      "+--------------------+----+\n",
      "|             content|name|\n",
      "+--------------------+----+\n",
      "|what will be sent...|Hugo|\n",
      "|what will be sent...|Hugo|\n",
      "|what will be sent...|Hugo|\n",
      "|what will be sent...|Hugo|\n",
      "|what will be sent...|Hugo|\n",
      "+--------------------+----+\n",
      "\n"
     ]
    },
    {
     "name": "stderr",
     "output_type": "stream",
     "text": [
      "{'content': 'what will be sent to spark', 'name': 'Hugo'}\n",
      "{'content': 'what will be sent to spark', 'name': 'Hugo'}\n",
      "{'content': 'what will be sent to spark', 'name': 'Hugo'}\n",
      "{'content': 'what will be sent to spark', 'name': 'Hugo'}\n",
      "{'content': 'what will be sent to spark', 'name': 'Hugo'}                       \n",
      "{'content': 'what will be sent to spark', 'name': 'Hugo'}\n",
      "{'content': 'what will be sent to spark', 'name': 'Hugo'}\n",
      "{'content': 'what will be sent to spark', 'name': 'Hugo'}\n",
      "{'content': 'what will be sent to spark', 'name': 'Hugo'}\n",
      "[Stage 0:>                                                          (0 + 1) / 1]\r"
     ]
    },
    {
     "name": "stdout",
     "output_type": "stream",
     "text": [
      "----------- 2022-12-06 11:21:40 -----------\n",
      "+--------------------+----+\n",
      "|             content|name|\n",
      "+--------------------+----+\n",
      "|what will be sent...|Hugo|\n",
      "|what will be sent...|Hugo|\n",
      "|what will be sent...|Hugo|\n",
      "|what will be sent...|Hugo|\n",
      "|what will be sent...|Hugo|\n",
      "+--------------------+----+\n",
      "\n"
     ]
    },
    {
     "name": "stderr",
     "output_type": "stream",
     "text": [
      "{'content': 'what will be sent to spark', 'name': 'Hugo'}\n",
      "{'content': 'what will be sent to spark', 'name': 'Hugo'}                       \n",
      "{'content': 'what will be sent to spark', 'name': 'Hugo'}\n",
      "{'content': 'what will be sent to spark', 'name': 'Hugo'}\n",
      "{'content': 'what will be sent to spark', 'name': 'Hugo'}\n",
      "{'content': 'what will be sent to spark', 'name': 'Hugo'}\n",
      "[Stage 0:>                                                          (0 + 1) / 1]\r"
     ]
    },
    {
     "name": "stdout",
     "output_type": "stream",
     "text": [
      "----------- 2022-12-06 11:21:50 -----------\n",
      "+--------------------+----+\n",
      "|             content|name|\n",
      "+--------------------+----+\n",
      "|what will be sent...|Hugo|\n",
      "|what will be sent...|Hugo|\n",
      "|what will be sent...|Hugo|\n",
      "|what will be sent...|Hugo|\n",
      "|what will be sent...|Hugo|\n",
      "|what will be sent...|Hugo|\n",
      "|what will be sent...|Hugo|\n",
      "+--------------------+----+\n",
      "\n"
     ]
    },
    {
     "name": "stderr",
     "output_type": "stream",
     "text": [
      "{'content': 'what will be sent to spark', 'name': 'Hugo'}\n",
      "{'content': 'what will be sent to spark', 'name': 'Hugo'}\n",
      "{'content': 'what will be sent to spark', 'name': 'Hugo'}\n",
      "{'content': 'what will be sent to spark', 'name': 'Hugo'}\n",
      "{'content': 'what will be sent to spark', 'name': 'Hugo'}                       \n",
      "{'content': 'what will be sent to spark', 'name': 'Hugo'}\n",
      "{'content': 'what will be sent to spark', 'name': 'Hugo'}\n",
      "{'content': 'what will be sent to spark', 'name': 'Hugo'}\n",
      "{'content': 'what will be sent to spark', 'name': 'Hugo'}\n",
      "{'content': 'what will be sent to spark', 'name': 'Hugo'}\n",
      "{'content': 'what will be sent to spark', 'name': 'Hugo'}\n",
      "[Stage 0:>                                                          (0 + 1) / 1]\r"
     ]
    },
    {
     "name": "stdout",
     "output_type": "stream",
     "text": [
      "----------- 2022-12-06 11:22:00 -----------\n",
      "+--------------------+----+\n",
      "|             content|name|\n",
      "+--------------------+----+\n",
      "|what will be sent...|Hugo|\n",
      "|what will be sent...|Hugo|\n",
      "|what will be sent...|Hugo|\n",
      "|what will be sent...|Hugo|\n",
      "|what will be sent...|Hugo|\n",
      "|what will be sent...|Hugo|\n",
      "|what will be sent...|Hugo|\n",
      "|what will be sent...|Hugo|\n",
      "+--------------------+----+\n",
      "\n"
     ]
    },
    {
     "name": "stderr",
     "output_type": "stream",
     "text": [
      "{'content': 'what will be sent to spark', 'name': 'Hugo'}\n",
      "{'content': 'what will be sent to spark', 'name': 'Hugo'}\n",
      "{'content': 'what will be sent to spark', 'name': 'Hugo'}\n",
      "{'content': 'what will be sent to spark', 'name': 'Hugo'}                       \n",
      "{'content': 'what will be sent to spark', 'name': 'Hugo'}\n",
      "{'content': 'what will be sent to spark', 'name': 'Hugo'}\n",
      "{'content': 'what will be sent to spark', 'name': 'Hugo'}\n",
      "{'content': 'what will be sent to spark', 'name': 'Hugo'}\n",
      "{'content': 'what will be sent to spark', 'name': 'Hugo'}\n",
      "{'content': 'what will be sent to spark', 'name': 'Hugo'}\n",
      "{'content': 'what will be sent to spark', 'name': 'Hugo'}\n",
      "[Stage 0:>                                                          (0 + 1) / 1]\r"
     ]
    },
    {
     "name": "stdout",
     "output_type": "stream",
     "text": [
      "----------- 2022-12-06 11:22:10 -----------\n",
      "+--------------------+----+\n",
      "|             content|name|\n",
      "+--------------------+----+\n",
      "|what will be sent...|Hugo|\n",
      "|what will be sent...|Hugo|\n",
      "|what will be sent...|Hugo|\n",
      "|what will be sent...|Hugo|\n",
      "|what will be sent...|Hugo|\n",
      "|what will be sent...|Hugo|\n",
      "|what will be sent...|Hugo|\n",
      "|what will be sent...|Hugo|\n",
      "|what will be sent...|Hugo|\n",
      "+--------------------+----+\n",
      "\n"
     ]
    },
    {
     "name": "stderr",
     "output_type": "stream",
     "text": [
      "{'content': 'what will be sent to spark', 'name': 'Hugo'}\n",
      "{'content': 'what will be sent to spark', 'name': 'Hugo'}\n",
      "{'content': 'what will be sent to spark', 'name': 'Hugo'}\n",
      "{'content': 'what will be sent to spark', 'name': 'Hugo'}\n",
      "{'content': 'what will be sent to spark', 'name': 'Hugo'}\n",
      "{'content': 'what will be sent to spark', 'name': 'Hugo'}                       \n",
      "{'content': 'what will be sent to spark', 'name': 'Hugo'}\n",
      "{'content': 'what will be sent to spark', 'name': 'Hugo'}\n",
      "{'content': 'what will be sent to spark', 'name': 'Hugo'}\n",
      "{'content': 'what will be sent to spark', 'name': 'Hugo'}\n",
      "{'content': 'what will be sent to spark', 'name': 'Hugo'}\n",
      "{'content': 'what will be sent to spark', 'name': 'Hugo'}\n",
      "{'content': 'what will be sent to spark', 'name': 'Hugo'}\n",
      "{'content': 'what will be sent to spark', 'name': 'Hugo'}\n",
      "[Stage 0:>                                                          (0 + 1) / 1]\r"
     ]
    },
    {
     "name": "stdout",
     "output_type": "stream",
     "text": [
      "----------- 2022-12-06 11:22:20 -----------\n",
      "+--------------------+----+\n",
      "|             content|name|\n",
      "+--------------------+----+\n",
      "|what will be sent...|Hugo|\n",
      "|what will be sent...|Hugo|\n",
      "|what will be sent...|Hugo|\n",
      "|what will be sent...|Hugo|\n",
      "|what will be sent...|Hugo|\n",
      "|what will be sent...|Hugo|\n",
      "+--------------------+----+\n",
      "\n"
     ]
    },
    {
     "name": "stderr",
     "output_type": "stream",
     "text": [
      "{'content': 'what will be sent to spark', 'name': 'Hugo'}\n",
      "{'content': 'what will be sent to spark', 'name': 'Hugo'}\n",
      "{'content': 'what will be sent to spark', 'name': 'Hugo'}\n",
      "{'content': 'what will be sent to spark', 'name': 'Hugo'}\n",
      "{'content': 'what will be sent to spark', 'name': 'Hugo'}                       \n",
      "{'content': 'what will be sent to spark', 'name': 'Hugo'}\n",
      "{'content': 'what will be sent to spark', 'name': 'Hugo'}\n",
      "{'content': 'what will be sent to spark', 'name': 'Hugo'}\n",
      "{'content': 'what will be sent to spark', 'name': 'Hugo'}\n",
      "{'content': 'what will be sent to spark', 'name': 'Hugo'}\n",
      "[Stage 0:>                                                          (0 + 1) / 1]\r"
     ]
    },
    {
     "name": "stdout",
     "output_type": "stream",
     "text": [
      "----------- 2022-12-06 11:22:30 -----------\n",
      "+--------------------+----+\n",
      "|             content|name|\n",
      "+--------------------+----+\n",
      "|what will be sent...|Hugo|\n",
      "|what will be sent...|Hugo|\n",
      "|what will be sent...|Hugo|\n",
      "|what will be sent...|Hugo|\n",
      "|what will be sent...|Hugo|\n",
      "|what will be sent...|Hugo|\n",
      "|what will be sent...|Hugo|\n",
      "|what will be sent...|Hugo|\n",
      "+--------------------+----+\n",
      "\n"
     ]
    },
    {
     "name": "stderr",
     "output_type": "stream",
     "text": [
      "{'content': 'what will be sent to spark', 'name': 'Hugo'}\n",
      "{'content': 'what will be sent to spark', 'name': 'Hugo'}\n",
      "{'content': 'what will be sent to spark', 'name': 'Hugo'}                       \n",
      "{'content': 'what will be sent to spark', 'name': 'Hugo'}\n",
      "{'content': 'what will be sent to spark', 'name': 'Hugo'}\n",
      "{'content': 'what will be sent to spark', 'name': 'Hugo'}\n",
      "{'content': 'what will be sent to spark', 'name': 'Hugo'}\n",
      "{'content': 'what will be sent to spark', 'name': 'Hugo'}\n",
      "{'content': 'what will be sent to spark', 'name': 'Hugo'}\n",
      "{'content': 'what will be sent to spark', 'name': 'Hugo'}\n",
      "[Stage 0:>                                                          (0 + 1) / 1]\r"
     ]
    },
    {
     "name": "stdout",
     "output_type": "stream",
     "text": [
      "----------- 2022-12-06 11:22:40 -----------\n",
      "+--------------------+----+\n",
      "|             content|name|\n",
      "+--------------------+----+\n",
      "|what will be sent...|Hugo|\n",
      "|what will be sent...|Hugo|\n",
      "|what will be sent...|Hugo|\n",
      "|what will be sent...|Hugo|\n",
      "|what will be sent...|Hugo|\n",
      "|what will be sent...|Hugo|\n",
      "|what will be sent...|Hugo|\n",
      "+--------------------+----+\n",
      "\n"
     ]
    },
    {
     "name": "stderr",
     "output_type": "stream",
     "text": [
      "{'content': 'what will be sent to spark', 'name': 'Hugo'}\n",
      "{'content': 'what will be sent to spark', 'name': 'Hugo'}\n",
      "{'content': 'what will be sent to spark', 'name': 'Hugo'}\n",
      "{'content': 'what will be sent to spark', 'name': 'Hugo'}\n",
      "{'content': 'what will be sent to spark', 'name': 'Hugo'}\n",
      "{'content': 'what will be sent to spark', 'name': 'Hugo'}\n",
      "{'content': 'what will be sent to spark', 'name': 'Hugo'}                       \n",
      "{'content': 'what will be sent to spark', 'name': 'Hugo'}\n",
      "{'content': 'what will be sent to spark', 'name': 'Hugo'}\n",
      "{'content': 'what will be sent to spark', 'name': 'Hugo'}\n",
      "{'content': 'what will be sent to spark', 'name': 'Hugo'}\n",
      "{'content': 'what will be sent to spark', 'name': 'Hugo'}\n",
      "{'content': 'what will be sent to spark', 'name': 'Hugo'}\n",
      "[Stage 0:>                                                          (0 + 1) / 1]\r"
     ]
    },
    {
     "name": "stdout",
     "output_type": "stream",
     "text": [
      "----------- 2022-12-06 11:22:50 -----------\n",
      "+--------------------+----+\n",
      "|             content|name|\n",
      "+--------------------+----+\n",
      "|what will be sent...|Hugo|\n",
      "|what will be sent...|Hugo|\n",
      "|what will be sent...|Hugo|\n",
      "|what will be sent...|Hugo|\n",
      "|what will be sent...|Hugo|\n",
      "|what will be sent...|Hugo|\n",
      "+--------------------+----+\n",
      "\n"
     ]
    },
    {
     "name": "stderr",
     "output_type": "stream",
     "text": [
      "{'content': 'what will be sent to spark', 'name': 'Hugo'}\n",
      "{'content': 'what will be sent to spark', 'name': 'Hugo'}                       \n",
      "{'content': 'what will be sent to spark', 'name': 'Hugo'}\n",
      "{'content': 'what will be sent to spark', 'name': 'Hugo'}\n",
      "{'content': 'what will be sent to spark', 'name': 'Hugo'}\n",
      "{'content': 'what will be sent to spark', 'name': 'Hugo'}\n",
      "{'content': 'what will be sent to spark', 'name': 'Hugo'}\n",
      "[Stage 0:>                                                          (0 + 1) / 1]\r"
     ]
    },
    {
     "name": "stdout",
     "output_type": "stream",
     "text": [
      "----------- 2022-12-06 11:23:00 -----------\n",
      "+--------------------+----+\n",
      "|             content|name|\n",
      "+--------------------+----+\n",
      "|what will be sent...|Hugo|\n",
      "|what will be sent...|Hugo|\n",
      "|what will be sent...|Hugo|\n",
      "|what will be sent...|Hugo|\n",
      "|what will be sent...|Hugo|\n",
      "|what will be sent...|Hugo|\n",
      "+--------------------+----+\n",
      "\n"
     ]
    },
    {
     "name": "stderr",
     "output_type": "stream",
     "text": [
      "{'content': 'what will be sent to spark', 'name': 'Hugo'}\n",
      "{'content': 'what will be sent to spark', 'name': 'Hugo'}\n",
      "{'content': 'what will be sent to spark', 'name': 'Hugo'}\n",
      "{'content': 'what will be sent to spark', 'name': 'Hugo'}\n",
      "{'content': 'what will be sent to spark', 'name': 'Hugo'}\n",
      "{'content': 'what will be sent to spark', 'name': 'Hugo'}                       \n",
      "{'content': 'what will be sent to spark', 'name': 'Hugo'}\n",
      "{'content': 'what will be sent to spark', 'name': 'Hugo'}\n",
      "{'content': 'what will be sent to spark', 'name': 'Hugo'}\n",
      "{'content': 'what will be sent to spark', 'name': 'Hugo'}\n",
      "{'content': 'what will be sent to spark', 'name': 'Hugo'}\n",
      "[Stage 0:>                                                          (0 + 1) / 1]\r"
     ]
    },
    {
     "name": "stdout",
     "output_type": "stream",
     "text": [
      "----------- 2022-12-06 11:23:10 -----------\n",
      "+--------------------+----+\n",
      "|             content|name|\n",
      "+--------------------+----+\n",
      "|what will be sent...|Hugo|\n",
      "|what will be sent...|Hugo|\n",
      "|what will be sent...|Hugo|\n",
      "|what will be sent...|Hugo|\n",
      "|what will be sent...|Hugo|\n",
      "|what will be sent...|Hugo|\n",
      "|what will be sent...|Hugo|\n",
      "|what will be sent...|Hugo|\n",
      "|what will be sent...|Hugo|\n",
      "+--------------------+----+\n",
      "\n"
     ]
    },
    {
     "name": "stderr",
     "output_type": "stream",
     "text": [
      "{'content': 'what will be sent to spark', 'name': 'Hugo'}\n",
      "{'content': 'what will be sent to spark', 'name': 'Hugo'}                       \n",
      "{'content': 'what will be sent to spark', 'name': 'Hugo'}\n",
      "{'content': 'what will be sent to spark', 'name': 'Hugo'}\n",
      "{'content': 'what will be sent to spark', 'name': 'Hugo'}\n",
      "{'content': 'what will be sent to spark', 'name': 'Hugo'}\n",
      "{'content': 'what will be sent to spark', 'name': 'Hugo'}\n",
      "{'content': 'what will be sent to spark', 'name': 'Hugo'}\n",
      "{'content': 'what will be sent to spark', 'name': 'Hugo'}\n",
      "{'content': 'what will be sent to spark', 'name': 'Hugo'}\n",
      "[Stage 0:>                                                          (0 + 1) / 1]\r"
     ]
    },
    {
     "name": "stdout",
     "output_type": "stream",
     "text": [
      "----------- 2022-12-06 11:23:20 -----------\n",
      "+--------------------+----+\n",
      "|             content|name|\n",
      "+--------------------+----+\n",
      "|what will be sent...|Hugo|\n",
      "|what will be sent...|Hugo|\n",
      "|what will be sent...|Hugo|\n",
      "|what will be sent...|Hugo|\n",
      "|what will be sent...|Hugo|\n",
      "|what will be sent...|Hugo|\n",
      "|what will be sent...|Hugo|\n",
      "|what will be sent...|Hugo|\n",
      "|what will be sent...|Hugo|\n",
      "|what will be sent...|Hugo|\n",
      "+--------------------+----+\n",
      "\n"
     ]
    },
    {
     "name": "stderr",
     "output_type": "stream",
     "text": [
      "{'content': 'what will be sent to spark', 'name': 'Hugo'}\n",
      "{'content': 'what will be sent to spark', 'name': 'Hugo'}\n",
      "{'content': 'what will be sent to spark', 'name': 'Hugo'}\n",
      "{'content': 'what will be sent to spark', 'name': 'Hugo'}\n",
      "{'content': 'what will be sent to spark', 'name': 'Hugo'}\n",
      "{'content': 'what will be sent to spark', 'name': 'Hugo'}\n",
      "{'content': 'what will be sent to spark', 'name': 'Hugo'}\n",
      "{'content': 'what will be sent to spark', 'name': 'Hugo'}\n",
      "{'content': 'what will be sent to spark', 'name': 'Hugo'}                       \n",
      "{'content': 'what will be sent to spark', 'name': 'Hugo'}\n",
      "{'content': 'what will be sent to spark', 'name': 'Hugo'}\n",
      "{'content': 'what will be sent to spark', 'name': 'Hugo'}\n",
      "{'content': 'what will be sent to spark', 'name': 'Hugo'}\n",
      "{'content': 'what will be sent to spark', 'name': 'Hugo'}\n",
      "{'content': 'what will be sent to spark', 'name': 'Hugo'}\n",
      "{'content': 'what will be sent to spark', 'name': 'Hugo'}\n",
      "{'content': 'what will be sent to spark', 'name': 'Hugo'}\n",
      "{'content': 'what will be sent to spark', 'name': 'Hugo'}\n",
      "{'content': 'what will be sent to spark', 'name': 'Hugo'}\n",
      "{'content': 'what will be sent to spark', 'name': 'Hugo'}\n",
      "{'content': 'what will be sent to spark', 'name': 'Hugo'}\n",
      "{'content': 'what will be sent to spark', 'name': 'Hugo'}\n",
      "[Stage 0:>                                                          (0 + 1) / 1]\r"
     ]
    },
    {
     "name": "stdout",
     "output_type": "stream",
     "text": [
      "----------- 2022-12-06 11:23:30 -----------\n",
      "+--------------------+----+\n",
      "|             content|name|\n",
      "+--------------------+----+\n",
      "|what will be sent...|Hugo|\n",
      "|what will be sent...|Hugo|\n",
      "|what will be sent...|Hugo|\n",
      "|what will be sent...|Hugo|\n",
      "|what will be sent...|Hugo|\n",
      "|what will be sent...|Hugo|\n",
      "|what will be sent...|Hugo|\n",
      "|what will be sent...|Hugo|\n",
      "+--------------------+----+\n",
      "\n"
     ]
    },
    {
     "name": "stderr",
     "output_type": "stream",
     "text": [
      "{'content': 'what will be sent to spark', 'name': 'Hugo'}\n",
      "{'content': 'what will be sent to spark', 'name': 'Hugo'}\n",
      "{'content': 'what will be sent to spark', 'name': 'Hugo'}\n",
      "{'content': 'what will be sent to spark', 'name': 'Hugo'}\n",
      "{'content': 'what will be sent to spark', 'name': 'Hugo'}\n",
      "{'content': 'what will be sent to spark', 'name': 'Hugo'}\n",
      "{'content': 'what will be sent to spark', 'name': 'Hugo'}                       \n",
      "{'content': 'what will be sent to spark', 'name': 'Hugo'}\n",
      "{'content': 'what will be sent to spark', 'name': 'Hugo'}\n",
      "{'content': 'what will be sent to spark', 'name': 'Hugo'}\n",
      "{'content': 'what will be sent to spark', 'name': 'Hugo'}\n",
      "{'content': 'what will be sent to spark', 'name': 'Hugo'}\n",
      "{'content': 'what will be sent to spark', 'name': 'Hugo'}\n",
      "{'content': 'what will be sent to spark', 'name': 'Hugo'}\n",
      "[Stage 0:>                                                          (0 + 1) / 1]\r"
     ]
    },
    {
     "name": "stdout",
     "output_type": "stream",
     "text": [
      "----------- 2022-12-06 11:23:40 -----------\n",
      "+--------------------+----+\n",
      "|             content|name|\n",
      "+--------------------+----+\n",
      "|what will be sent...|Hugo|\n",
      "|what will be sent...|Hugo|\n",
      "|what will be sent...|Hugo|\n",
      "|what will be sent...|Hugo|\n",
      "|what will be sent...|Hugo|\n",
      "+--------------------+----+\n",
      "\n"
     ]
    },
    {
     "name": "stderr",
     "output_type": "stream",
     "text": [
      "{'content': 'what will be sent to spark', 'name': 'Hugo'}\n",
      "{'content': 'what will be sent to spark', 'name': 'Hugo'}\n",
      "{'content': 'what will be sent to spark', 'name': 'Hugo'}                       \n",
      "{'content': 'what will be sent to spark', 'name': 'Hugo'}\n",
      "{'content': 'what will be sent to spark', 'name': 'Hugo'}\n",
      "{'content': 'what will be sent to spark', 'name': 'Hugo'}\n",
      "{'content': 'what will be sent to spark', 'name': 'Hugo'}\n",
      "[Stage 0:>                                                          (0 + 1) / 1]\r"
     ]
    },
    {
     "name": "stdout",
     "output_type": "stream",
     "text": [
      "----------- 2022-12-06 11:23:50 -----------\n",
      "+--------------------+----+\n",
      "|             content|name|\n",
      "+--------------------+----+\n",
      "|what will be sent...|Hugo|\n",
      "|what will be sent...|Hugo|\n",
      "|what will be sent...|Hugo|\n",
      "|what will be sent...|Hugo|\n",
      "|what will be sent...|Hugo|\n",
      "|what will be sent...|Hugo|\n",
      "+--------------------+----+\n",
      "\n"
     ]
    },
    {
     "name": "stderr",
     "output_type": "stream",
     "text": [
      "{'content': 'what will be sent to spark', 'name': 'Hugo'}\n",
      "{'content': 'what will be sent to spark', 'name': 'Hugo'}\n",
      "{'content': 'what will be sent to spark', 'name': 'Hugo'}\n",
      "{'content': 'what will be sent to spark', 'name': 'Hugo'}                       \n",
      "{'content': 'what will be sent to spark', 'name': 'Hugo'}\n",
      "{'content': 'what will be sent to spark', 'name': 'Hugo'}\n",
      "{'content': 'what will be sent to spark', 'name': 'Hugo'}\n",
      "{'content': 'what will be sent to spark', 'name': 'Hugo'}\n",
      "{'content': 'what will be sent to spark', 'name': 'Hugo'}\n",
      "[Stage 0:>                                                          (0 + 1) / 1]\r"
     ]
    },
    {
     "name": "stdout",
     "output_type": "stream",
     "text": [
      "----------- 2022-12-06 11:24:00 -----------\n",
      "+--------------------+----+\n",
      "|             content|name|\n",
      "+--------------------+----+\n",
      "|what will be sent...|Hugo|\n",
      "|what will be sent...|Hugo|\n",
      "|what will be sent...|Hugo|\n",
      "|what will be sent...|Hugo|\n",
      "|what will be sent...|Hugo|\n",
      "+--------------------+----+\n",
      "\n"
     ]
    },
    {
     "name": "stderr",
     "output_type": "stream",
     "text": [
      "{'content': 'what will be sent to spark', 'name': 'Hugo'}\n",
      "{'content': 'what will be sent to spark', 'name': 'Hugo'}\n",
      "{'content': 'what will be sent to spark', 'name': 'Hugo'}\n",
      "{'content': 'what will be sent to spark', 'name': 'Hugo'}                       \n",
      "{'content': 'what will be sent to spark', 'name': 'Hugo'}\n",
      "{'content': 'what will be sent to spark', 'name': 'Hugo'}\n",
      "{'content': 'what will be sent to spark', 'name': 'Hugo'}\n",
      "{'content': 'what will be sent to spark', 'name': 'Hugo'}\n",
      "[Stage 0:>                                                          (0 + 1) / 1]\r"
     ]
    },
    {
     "name": "stdout",
     "output_type": "stream",
     "text": [
      "----------- 2022-12-06 11:24:10 -----------\n",
      "+--------------------+----+\n",
      "|             content|name|\n",
      "+--------------------+----+\n",
      "|what will be sent...|Hugo|\n",
      "|what will be sent...|Hugo|\n",
      "|what will be sent...|Hugo|\n",
      "+--------------------+----+\n",
      "\n"
     ]
    },
    {
     "name": "stderr",
     "output_type": "stream",
     "text": [
      "{'content': 'what will be sent to spark', 'name': 'Hugo'}\n",
      "{'content': 'what will be sent to spark', 'name': 'Hugo'}\n",
      "{'content': 'what will be sent to spark', 'name': 'Hugo'}                       \n",
      "{'content': 'what will be sent to spark', 'name': 'Hugo'}\n",
      "{'content': 'what will be sent to spark', 'name': 'Hugo'}\n",
      "[Stage 0:>                                                          (0 + 1) / 1]\r"
     ]
    },
    {
     "name": "stdout",
     "output_type": "stream",
     "text": [
      "----------- 2022-12-06 11:24:20 -----------\n",
      "+--------------------+----+\n",
      "|             content|name|\n",
      "+--------------------+----+\n",
      "|what will be sent...|Hugo|\n",
      "|what will be sent...|Hugo|\n",
      "+--------------------+----+\n",
      "\n"
     ]
    },
    {
     "name": "stderr",
     "output_type": "stream",
     "text": [
      "{'content': 'what will be sent to spark', 'name': 'Hugo'}\n",
      "{'content': 'what will be sent to spark', 'name': 'Hugo'}                       \n",
      "{'content': 'what will be sent to spark', 'name': 'Hugo'}\n",
      "[Stage 0:>                                                          (0 + 1) / 1]\r"
     ]
    },
    {
     "name": "stdout",
     "output_type": "stream",
     "text": [
      "----------- 2022-12-06 11:24:30 -----------\n",
      "+--------------------+----+\n",
      "|             content|name|\n",
      "+--------------------+----+\n",
      "|what will be sent...|Hugo|\n",
      "|what will be sent...|Hugo|\n",
      "|what will be sent...|Hugo|\n",
      "|what will be sent...|Hugo|\n",
      "|what will be sent...|Hugo|\n",
      "|what will be sent...|Hugo|\n",
      "+--------------------+----+\n",
      "\n"
     ]
    },
    {
     "name": "stderr",
     "output_type": "stream",
     "text": [
      "{'content': 'what will be sent to spark', 'name': 'Hugo'}\n",
      "{'content': 'what will be sent to spark', 'name': 'Hugo'}                       \n",
      "{'content': 'what will be sent to spark', 'name': 'Hugo'}\n",
      "{'content': 'what will be sent to spark', 'name': 'Hugo'}\n",
      "{'content': 'what will be sent to spark', 'name': 'Hugo'}\n",
      "{'content': 'what will be sent to spark', 'name': 'Hugo'}\n",
      "{'content': 'what will be sent to spark', 'name': 'Hugo'}\n",
      "[Stage 0:>                                                          (0 + 1) / 1]\r"
     ]
    },
    {
     "name": "stdout",
     "output_type": "stream",
     "text": [
      "----------- 2022-12-06 11:24:40 -----------\n",
      "+--------------------+----+\n",
      "|             content|name|\n",
      "+--------------------+----+\n",
      "|what will be sent...|Hugo|\n",
      "|what will be sent...|Hugo|\n",
      "|what will be sent...|Hugo|\n",
      "|what will be sent...|Hugo|\n",
      "|what will be sent...|Hugo|\n",
      "|what will be sent...|Hugo|\n",
      "|what will be sent...|Hugo|\n",
      "|what will be sent...|Hugo|\n",
      "|what will be sent...|Hugo|\n",
      "+--------------------+----+\n",
      "\n"
     ]
    },
    {
     "name": "stderr",
     "output_type": "stream",
     "text": [
      "{'content': 'what will be sent to spark', 'name': 'Hugo'}\n",
      "{'content': 'what will be sent to spark', 'name': 'Hugo'}\n",
      "{'content': 'what will be sent to spark', 'name': 'Hugo'}\n",
      "{'content': 'what will be sent to spark', 'name': 'Hugo'}\n",
      "{'content': 'what will be sent to spark', 'name': 'Hugo'}\n",
      "{'content': 'what will be sent to spark', 'name': 'Hugo'}                       \n",
      "{'content': 'what will be sent to spark', 'name': 'Hugo'}\n",
      "{'content': 'what will be sent to spark', 'name': 'Hugo'}\n",
      "{'content': 'what will be sent to spark', 'name': 'Hugo'}\n",
      "{'content': 'what will be sent to spark', 'name': 'Hugo'}\n",
      "{'content': 'what will be sent to spark', 'name': 'Hugo'}\n",
      "{'content': 'what will be sent to spark', 'name': 'Hugo'}\n",
      "{'content': 'what will be sent to spark', 'name': 'Hugo'}\n",
      "{'content': 'what will be sent to spark', 'name': 'Hugo'}\n",
      "[Stage 0:>                                                          (0 + 1) / 1]\r"
     ]
    },
    {
     "name": "stdout",
     "output_type": "stream",
     "text": [
      "----------- 2022-12-06 11:24:50 -----------\n",
      "+--------------------+----+\n",
      "|             content|name|\n",
      "+--------------------+----+\n",
      "|what will be sent...|Hugo|\n",
      "|what will be sent...|Hugo|\n",
      "|what will be sent...|Hugo|\n",
      "|what will be sent...|Hugo|\n",
      "|what will be sent...|Hugo|\n",
      "|what will be sent...|Hugo|\n",
      "+--------------------+----+\n",
      "\n"
     ]
    },
    {
     "name": "stderr",
     "output_type": "stream",
     "text": [
      "{'content': 'what will be sent to spark', 'name': 'Hugo'}\n",
      "{'content': 'what will be sent to spark', 'name': 'Hugo'}\n",
      "{'content': 'what will be sent to spark', 'name': 'Hugo'}\n",
      "{'content': 'what will be sent to spark', 'name': 'Hugo'}\n",
      "{'content': 'what will be sent to spark', 'name': 'Hugo'}                       \n",
      "{'content': 'what will be sent to spark', 'name': 'Hugo'}\n",
      "{'content': 'what will be sent to spark', 'name': 'Hugo'}\n",
      "{'content': 'what will be sent to spark', 'name': 'Hugo'}\n",
      "{'content': 'what will be sent to spark', 'name': 'Hugo'}\n",
      "{'content': 'what will be sent to spark', 'name': 'Hugo'}\n",
      "[Stage 0:>                                                          (0 + 1) / 1]\r"
     ]
    },
    {
     "name": "stdout",
     "output_type": "stream",
     "text": [
      "----------- 2022-12-06 11:25:00 -----------\n",
      "+--------------------+----+\n",
      "|             content|name|\n",
      "+--------------------+----+\n",
      "|what will be sent...|Hugo|\n",
      "|what will be sent...|Hugo|\n",
      "|what will be sent...|Hugo|\n",
      "|what will be sent...|Hugo|\n",
      "|what will be sent...|Hugo|\n",
      "+--------------------+----+\n",
      "\n"
     ]
    },
    {
     "name": "stderr",
     "output_type": "stream",
     "text": [
      "{'content': 'what will be sent to spark', 'name': 'Hugo'}\n",
      "{'content': 'what will be sent to spark', 'name': 'Hugo'}\n",
      "{'content': 'what will be sent to spark', 'name': 'Hugo'}                       \n",
      "{'content': 'what will be sent to spark', 'name': 'Hugo'}\n",
      "{'content': 'what will be sent to spark', 'name': 'Hugo'}\n",
      "{'content': 'what will be sent to spark', 'name': 'Hugo'}\n",
      "{'content': 'what will be sent to spark', 'name': 'Hugo'}\n",
      "[Stage 0:>                                                          (0 + 1) / 1]\r"
     ]
    },
    {
     "name": "stdout",
     "output_type": "stream",
     "text": [
      "----------- 2022-12-06 11:25:10 -----------\n",
      "+--------------------+----+\n",
      "|             content|name|\n",
      "+--------------------+----+\n",
      "|what will be sent...|Hugo|\n",
      "|what will be sent...|Hugo|\n",
      "|what will be sent...|Hugo|\n",
      "|what will be sent...|Hugo|\n",
      "|what will be sent...|Hugo|\n",
      "|what will be sent...|Hugo|\n",
      "|what will be sent...|Hugo|\n",
      "|what will be sent...|Hugo|\n",
      "|what will be sent...|Hugo|\n",
      "+--------------------+----+\n",
      "\n"
     ]
    },
    {
     "name": "stderr",
     "output_type": "stream",
     "text": [
      "{'content': 'what will be sent to spark', 'name': 'Hugo'}\n",
      "{'content': 'what will be sent to spark', 'name': 'Hugo'}\n",
      "{'content': 'what will be sent to spark', 'name': 'Hugo'}\n",
      "{'content': 'what will be sent to spark', 'name': 'Hugo'}                       \n",
      "{'content': 'what will be sent to spark', 'name': 'Hugo'}\n",
      "{'content': 'what will be sent to spark', 'name': 'Hugo'}\n",
      "{'content': 'what will be sent to spark', 'name': 'Hugo'}\n",
      "{'content': 'what will be sent to spark', 'name': 'Hugo'}\n",
      "{'content': 'what will be sent to spark', 'name': 'Hugo'}\n",
      "{'content': 'what will be sent to spark', 'name': 'Hugo'}\n",
      "{'content': 'what will be sent to spark', 'name': 'Hugo'}\n",
      "{'content': 'what will be sent to spark', 'name': 'Hugo'}\n",
      "[Stage 0:>                                                          (0 + 1) / 1]\r"
     ]
    },
    {
     "name": "stdout",
     "output_type": "stream",
     "text": [
      "----------- 2022-12-06 11:25:20 -----------\n",
      "+--------------------+----+\n",
      "|             content|name|\n",
      "+--------------------+----+\n",
      "|what will be sent...|Hugo|\n",
      "|what will be sent...|Hugo|\n",
      "|what will be sent...|Hugo|\n",
      "|what will be sent...|Hugo|\n",
      "|what will be sent...|Hugo|\n",
      "|what will be sent...|Hugo|\n",
      "|what will be sent...|Hugo|\n",
      "|what will be sent...|Hugo|\n",
      "+--------------------+----+\n",
      "\n"
     ]
    },
    {
     "name": "stderr",
     "output_type": "stream",
     "text": [
      "{'content': 'what will be sent to spark', 'name': 'Hugo'}\n",
      "{'content': 'what will be sent to spark', 'name': 'Hugo'}\n",
      "{'content': 'what will be sent to spark', 'name': 'Hugo'}\n",
      "{'content': 'what will be sent to spark', 'name': 'Hugo'}\n",
      "{'content': 'what will be sent to spark', 'name': 'Hugo'}\n",
      "{'content': 'what will be sent to spark', 'name': 'Hugo'}\n",
      "{'content': 'what will be sent to spark', 'name': 'Hugo'}                       \n",
      "{'content': 'what will be sent to spark', 'name': 'Hugo'}\n",
      "{'content': 'what will be sent to spark', 'name': 'Hugo'}\n",
      "{'content': 'what will be sent to spark', 'name': 'Hugo'}\n",
      "{'content': 'what will be sent to spark', 'name': 'Hugo'}\n",
      "{'content': 'what will be sent to spark', 'name': 'Hugo'}\n",
      "{'content': 'what will be sent to spark', 'name': 'Hugo'}\n",
      "{'content': 'what will be sent to spark', 'name': 'Hugo'}\n",
      "[Stage 0:>                                                          (0 + 1) / 1]\r"
     ]
    },
    {
     "name": "stdout",
     "output_type": "stream",
     "text": [
      "----------- 2022-12-06 11:25:30 -----------\n",
      "+--------------------+----+\n",
      "|             content|name|\n",
      "+--------------------+----+\n",
      "|what will be sent...|Hugo|\n",
      "|what will be sent...|Hugo|\n",
      "+--------------------+----+\n",
      "\n"
     ]
    },
    {
     "name": "stderr",
     "output_type": "stream",
     "text": [
      "{'content': 'what will be sent to spark', 'name': 'Hugo'}\n",
      "{'content': 'what will be sent to spark', 'name': 'Hugo'}\n",
      "{'content': 'what will be sent to spark', 'name': 'Hugo'}                       \n",
      "{'content': 'what will be sent to spark', 'name': 'Hugo'}\n",
      "[Stage 0:>                                                          (0 + 1) / 1]\r"
     ]
    },
    {
     "name": "stdout",
     "output_type": "stream",
     "text": [
      "----------- 2022-12-06 11:25:40 -----------\n",
      "+--------------------+----+\n",
      "|             content|name|\n",
      "+--------------------+----+\n",
      "|what will be sent...|Hugo|\n",
      "|what will be sent...|Hugo|\n",
      "|what will be sent...|Hugo|\n",
      "|what will be sent...|Hugo|\n",
      "|what will be sent...|Hugo|\n",
      "+--------------------+----+\n",
      "\n"
     ]
    },
    {
     "name": "stderr",
     "output_type": "stream",
     "text": [
      "{'content': 'what will be sent to spark', 'name': 'Hugo'}\n",
      "{'content': 'what will be sent to spark', 'name': 'Hugo'}                       \n",
      "{'content': 'what will be sent to spark', 'name': 'Hugo'}\n",
      "{'content': 'what will be sent to spark', 'name': 'Hugo'}\n",
      "{'content': 'what will be sent to spark', 'name': 'Hugo'}\n",
      "{'content': 'what will be sent to spark', 'name': 'Hugo'}\n",
      "[Stage 0:>                                                          (0 + 1) / 1]\r"
     ]
    },
    {
     "name": "stdout",
     "output_type": "stream",
     "text": [
      "----------- 2022-12-06 11:25:50 -----------\n",
      "+--------------------+----+\n",
      "|             content|name|\n",
      "+--------------------+----+\n",
      "|what will be sent...|Hugo|\n",
      "|what will be sent...|Hugo|\n",
      "|what will be sent...|Hugo|\n",
      "|what will be sent...|Hugo|\n",
      "|what will be sent...|Hugo|\n",
      "|what will be sent...|Hugo|\n",
      "|what will be sent...|Hugo|\n",
      "+--------------------+----+\n",
      "\n"
     ]
    },
    {
     "name": "stderr",
     "output_type": "stream",
     "text": [
      "{'content': 'what will be sent to spark', 'name': 'Hugo'}\n",
      "{'content': 'what will be sent to spark', 'name': 'Hugo'}                       \n",
      "{'content': 'what will be sent to spark', 'name': 'Hugo'}\n",
      "{'content': 'what will be sent to spark', 'name': 'Hugo'}\n",
      "{'content': 'what will be sent to spark', 'name': 'Hugo'}\n",
      "{'content': 'what will be sent to spark', 'name': 'Hugo'}\n",
      "{'content': 'what will be sent to spark', 'name': 'Hugo'}\n",
      "{'content': 'what will be sent to spark', 'name': 'Hugo'}\n",
      "[Stage 0:>                                                          (0 + 1) / 1]\r"
     ]
    },
    {
     "name": "stdout",
     "output_type": "stream",
     "text": [
      "----------- 2022-12-06 11:26:00 -----------\n",
      "+--------------------+----+\n",
      "|             content|name|\n",
      "+--------------------+----+\n",
      "|what will be sent...|Hugo|\n",
      "|what will be sent...|Hugo|\n",
      "|what will be sent...|Hugo|\n",
      "|what will be sent...|Hugo|\n",
      "+--------------------+----+\n",
      "\n"
     ]
    },
    {
     "name": "stderr",
     "output_type": "stream",
     "text": [
      "{'content': 'what will be sent to spark', 'name': 'Hugo'}\n",
      "{'content': 'what will be sent to spark', 'name': 'Hugo'}                       \n",
      "{'content': 'what will be sent to spark', 'name': 'Hugo'}\n",
      "{'content': 'what will be sent to spark', 'name': 'Hugo'}\n",
      "{'content': 'what will be sent to spark', 'name': 'Hugo'}\n",
      "[Stage 0:>                                                          (0 + 1) / 1]\r"
     ]
    },
    {
     "name": "stdout",
     "output_type": "stream",
     "text": [
      "----------- 2022-12-06 11:26:10 -----------\n",
      "+--------------------+----+\n",
      "|             content|name|\n",
      "+--------------------+----+\n",
      "|what will be sent...|Hugo|\n",
      "|what will be sent...|Hugo|\n",
      "|what will be sent...|Hugo|\n",
      "|what will be sent...|Hugo|\n",
      "|what will be sent...|Hugo|\n",
      "+--------------------+----+\n",
      "\n"
     ]
    },
    {
     "name": "stderr",
     "output_type": "stream",
     "text": [
      "{'content': 'what will be sent to spark', 'name': 'Hugo'}\n",
      "{'content': 'what will be sent to spark', 'name': 'Hugo'}\n",
      "{'content': 'what will be sent to spark', 'name': 'Hugo'}                       \n",
      "{'content': 'what will be sent to spark', 'name': 'Hugo'}\n",
      "{'content': 'what will be sent to spark', 'name': 'Hugo'}\n",
      "{'content': 'what will be sent to spark', 'name': 'Hugo'}\n",
      "{'content': 'what will be sent to spark', 'name': 'Hugo'}\n",
      "[Stage 0:>                                                          (0 + 1) / 1]\r"
     ]
    },
    {
     "name": "stdout",
     "output_type": "stream",
     "text": [
      "----------- 2022-12-06 11:26:20 -----------\n",
      "+--------------------+----+\n",
      "|             content|name|\n",
      "+--------------------+----+\n",
      "|what will be sent...|Hugo|\n",
      "|what will be sent...|Hugo|\n",
      "|what will be sent...|Hugo|\n",
      "|what will be sent...|Hugo|\n",
      "|what will be sent...|Hugo|\n",
      "|what will be sent...|Hugo|\n",
      "|what will be sent...|Hugo|\n",
      "|what will be sent...|Hugo|\n",
      "|what will be sent...|Hugo|\n",
      "|what will be sent...|Hugo|\n",
      "+--------------------+----+\n",
      "\n"
     ]
    },
    {
     "name": "stderr",
     "output_type": "stream",
     "text": [
      "{'content': 'what will be sent to spark', 'name': 'Hugo'}\n",
      "{'content': 'what will be sent to spark', 'name': 'Hugo'}\n",
      "{'content': 'what will be sent to spark', 'name': 'Hugo'}\n",
      "{'content': 'what will be sent to spark', 'name': 'Hugo'}                       \n",
      "{'content': 'what will be sent to spark', 'name': 'Hugo'}\n",
      "{'content': 'what will be sent to spark', 'name': 'Hugo'}\n",
      "{'content': 'what will be sent to spark', 'name': 'Hugo'}\n",
      "{'content': 'what will be sent to spark', 'name': 'Hugo'}\n",
      "{'content': 'what will be sent to spark', 'name': 'Hugo'}\n",
      "{'content': 'what will be sent to spark', 'name': 'Hugo'}\n",
      "{'content': 'what will be sent to spark', 'name': 'Hugo'}\n",
      "{'content': 'what will be sent to spark', 'name': 'Hugo'}\n",
      "{'content': 'what will be sent to spark', 'name': 'Hugo'}\n",
      "[Stage 0:>                                                          (0 + 1) / 1]\r"
     ]
    },
    {
     "name": "stdout",
     "output_type": "stream",
     "text": [
      "----------- 2022-12-06 11:26:30 -----------\n",
      "+--------------------+----+\n",
      "|             content|name|\n",
      "+--------------------+----+\n",
      "|what will be sent...|Hugo|\n",
      "|what will be sent...|Hugo|\n",
      "|what will be sent...|Hugo|\n",
      "|what will be sent...|Hugo|\n",
      "|what will be sent...|Hugo|\n",
      "|what will be sent...|Hugo|\n",
      "|what will be sent...|Hugo|\n",
      "|what will be sent...|Hugo|\n",
      "|what will be sent...|Hugo|\n",
      "+--------------------+----+\n",
      "\n"
     ]
    },
    {
     "name": "stderr",
     "output_type": "stream",
     "text": [
      "{'content': 'what will be sent to spark', 'name': 'Hugo'}\n",
      "{'content': 'what will be sent to spark', 'name': 'Hugo'}                       \n",
      "{'content': 'what will be sent to spark', 'name': 'Hugo'}\n",
      "{'content': 'what will be sent to spark', 'name': 'Hugo'}\n",
      "{'content': 'what will be sent to spark', 'name': 'Hugo'}\n",
      "{'content': 'what will be sent to spark', 'name': 'Hugo'}\n",
      "{'content': 'what will be sent to spark', 'name': 'Hugo'}\n",
      "{'content': 'what will be sent to spark', 'name': 'Hugo'}\n",
      "{'content': 'what will be sent to spark', 'name': 'Hugo'}\n",
      "{'content': 'what will be sent to spark', 'name': 'Hugo'}\n",
      "[Stage 0:>                                                          (0 + 1) / 1]\r"
     ]
    },
    {
     "name": "stdout",
     "output_type": "stream",
     "text": [
      "----------- 2022-12-06 11:26:40 -----------\n",
      "+--------------------+----+\n",
      "|             content|name|\n",
      "+--------------------+----+\n",
      "|what will be sent...|Hugo|\n",
      "|what will be sent...|Hugo|\n",
      "|what will be sent...|Hugo|\n",
      "|what will be sent...|Hugo|\n",
      "|what will be sent...|Hugo|\n",
      "|what will be sent...|Hugo|\n",
      "|what will be sent...|Hugo|\n",
      "|what will be sent...|Hugo|\n",
      "+--------------------+----+\n",
      "\n"
     ]
    },
    {
     "name": "stderr",
     "output_type": "stream",
     "text": [
      "{'content': 'what will be sent to spark', 'name': 'Hugo'}\n",
      "{'content': 'what will be sent to spark', 'name': 'Hugo'}                       \n",
      "{'content': 'what will be sent to spark', 'name': 'Hugo'}\n",
      "{'content': 'what will be sent to spark', 'name': 'Hugo'}\n",
      "{'content': 'what will be sent to spark', 'name': 'Hugo'}\n",
      "{'content': 'what will be sent to spark', 'name': 'Hugo'}\n",
      "{'content': 'what will be sent to spark', 'name': 'Hugo'}\n",
      "{'content': 'what will be sent to spark', 'name': 'Hugo'}\n",
      "{'content': 'what will be sent to spark', 'name': 'Hugo'}\n",
      "[Stage 0:>                                                          (0 + 1) / 1]\r"
     ]
    },
    {
     "name": "stdout",
     "output_type": "stream",
     "text": [
      "----------- 2022-12-06 11:26:50 -----------\n",
      "+--------------------+----+\n",
      "|             content|name|\n",
      "+--------------------+----+\n",
      "|what will be sent...|Hugo|\n",
      "|what will be sent...|Hugo|\n",
      "|what will be sent...|Hugo|\n",
      "|what will be sent...|Hugo|\n",
      "|what will be sent...|Hugo|\n",
      "|what will be sent...|Hugo|\n",
      "|what will be sent...|Hugo|\n",
      "|what will be sent...|Hugo|\n",
      "|what will be sent...|Hugo|\n",
      "|what will be sent...|Hugo|\n",
      "+--------------------+----+\n",
      "\n"
     ]
    },
    {
     "name": "stderr",
     "output_type": "stream",
     "text": [
      "{'content': 'what will be sent to spark', 'name': 'Hugo'}\n",
      "{'content': 'what will be sent to spark', 'name': 'Hugo'}                       \n",
      "{'content': 'what will be sent to spark', 'name': 'Hugo'}\n",
      "{'content': 'what will be sent to spark', 'name': 'Hugo'}\n",
      "{'content': 'what will be sent to spark', 'name': 'Hugo'}\n",
      "{'content': 'what will be sent to spark', 'name': 'Hugo'}\n",
      "{'content': 'what will be sent to spark', 'name': 'Hugo'}\n",
      "{'content': 'what will be sent to spark', 'name': 'Hugo'}\n",
      "{'content': 'what will be sent to spark', 'name': 'Hugo'}\n",
      "{'content': 'what will be sent to spark', 'name': 'Hugo'}\n",
      "{'content': 'what will be sent to spark', 'name': 'Hugo'}\n",
      "[Stage 0:>                                                          (0 + 1) / 1]\r"
     ]
    },
    {
     "name": "stdout",
     "output_type": "stream",
     "text": [
      "----------- 2022-12-06 11:27:00 -----------\n",
      "+--------------------+----+\n",
      "|             content|name|\n",
      "+--------------------+----+\n",
      "|what will be sent...|Hugo|\n",
      "|what will be sent...|Hugo|\n",
      "|what will be sent...|Hugo|\n",
      "|what will be sent...|Hugo|\n",
      "|what will be sent...|Hugo|\n",
      "|what will be sent...|Hugo|\n",
      "|what will be sent...|Hugo|\n",
      "|what will be sent...|Hugo|\n",
      "|what will be sent...|Hugo|\n",
      "|what will be sent...|Hugo|\n",
      "+--------------------+----+\n",
      "\n"
     ]
    },
    {
     "name": "stderr",
     "output_type": "stream",
     "text": [
      "{'content': 'what will be sent to spark', 'name': 'Hugo'}\n",
      "{'content': 'what will be sent to spark', 'name': 'Hugo'}\n",
      "{'content': 'what will be sent to spark', 'name': 'Hugo'}\n",
      "{'content': 'what will be sent to spark', 'name': 'Hugo'}\n",
      "{'content': 'what will be sent to spark', 'name': 'Hugo'}                       \n",
      "{'content': 'what will be sent to spark', 'name': 'Hugo'}\n",
      "{'content': 'what will be sent to spark', 'name': 'Hugo'}\n",
      "{'content': 'what will be sent to spark', 'name': 'Hugo'}\n",
      "{'content': 'what will be sent to spark', 'name': 'Hugo'}\n",
      "{'content': 'what will be sent to spark', 'name': 'Hugo'}\n",
      "{'content': 'what will be sent to spark', 'name': 'Hugo'}\n",
      "{'content': 'what will be sent to spark', 'name': 'Hugo'}\n",
      "{'content': 'what will be sent to spark', 'name': 'Hugo'}\n",
      "{'content': 'what will be sent to spark', 'name': 'Hugo'}\n",
      "[Stage 0:>                                                          (0 + 1) / 1]\r"
     ]
    },
    {
     "name": "stdout",
     "output_type": "stream",
     "text": [
      "----------- 2022-12-06 11:27:10 -----------\n",
      "+--------------------+----+\n",
      "|             content|name|\n",
      "+--------------------+----+\n",
      "|what will be sent...|Hugo|\n",
      "|what will be sent...|Hugo|\n",
      "|what will be sent...|Hugo|\n",
      "|what will be sent...|Hugo|\n",
      "|what will be sent...|Hugo|\n",
      "|what will be sent...|Hugo|\n",
      "|what will be sent...|Hugo|\n",
      "|what will be sent...|Hugo|\n",
      "|what will be sent...|Hugo|\n",
      "|what will be sent...|Hugo|\n",
      "+--------------------+----+\n",
      "\n"
     ]
    },
    {
     "name": "stderr",
     "output_type": "stream",
     "text": [
      "{'content': 'what will be sent to spark', 'name': 'Hugo'}\n",
      "{'content': 'what will be sent to spark', 'name': 'Hugo'}                       \n",
      "{'content': 'what will be sent to spark', 'name': 'Hugo'}\n",
      "{'content': 'what will be sent to spark', 'name': 'Hugo'}\n",
      "{'content': 'what will be sent to spark', 'name': 'Hugo'}\n",
      "{'content': 'what will be sent to spark', 'name': 'Hugo'}\n",
      "{'content': 'what will be sent to spark', 'name': 'Hugo'}\n",
      "{'content': 'what will be sent to spark', 'name': 'Hugo'}\n",
      "{'content': 'what will be sent to spark', 'name': 'Hugo'}\n",
      "{'content': 'what will be sent to spark', 'name': 'Hugo'}\n",
      "{'content': 'what will be sent to spark', 'name': 'Hugo'}\n",
      "[Stage 0:>                                                          (0 + 1) / 1]\r"
     ]
    },
    {
     "name": "stdout",
     "output_type": "stream",
     "text": [
      "----------- 2022-12-06 11:27:20 -----------\n"
     ]
    },
    {
     "name": "stderr",
     "output_type": "stream",
     "text": [
      "{'content': 'what will be sent to spark', 'name': 'Hugo'}\n",
      "{'content': 'what will be sent to spark', 'name': 'Hugo'}\n",
      "{'content': 'what will be sent to spark', 'name': 'Hugo'}                       \n",
      "{'content': 'what will be sent to spark', 'name': 'Hugo'}\n",
      "{'content': 'what will be sent to spark', 'name': 'Hugo'}\n",
      "{'content': 'what will be sent to spark', 'name': 'Hugo'}\n",
      "{'content': 'what will be sent to spark', 'name': 'Hugo'}\n",
      "{'content': 'what will be sent to spark', 'name': 'Hugo'}\n",
      "{'content': 'what will be sent to spark', 'name': 'Hugo'}\n",
      "{'content': 'what will be sent to spark', 'name': 'Hugo'}\n",
      "{'content': 'what will be sent to spark', 'name': 'Hugo'}\n",
      "{'content': 'what will be sent to spark', 'name': 'Hugo'}\n"
     ]
    },
    {
     "name": "stdout",
     "output_type": "stream",
     "text": [
      "+--------------------+----+\n",
      "|             content|name|\n",
      "+--------------------+----+\n",
      "|what will be sent...|Hugo|\n",
      "|what will be sent...|Hugo|\n",
      "|what will be sent...|Hugo|\n",
      "|what will be sent...|Hugo|\n",
      "|what will be sent...|Hugo|\n",
      "|what will be sent...|Hugo|\n",
      "|what will be sent...|Hugo|\n",
      "|what will be sent...|Hugo|\n",
      "|what will be sent...|Hugo|\n",
      "|what will be sent...|Hugo|\n",
      "+--------------------+----+\n",
      "\n"
     ]
    },
    {
     "name": "stderr",
     "output_type": "stream",
     "text": [
      "\r\n",
      "[Stage 0:>                                                          (0 + 1) / 1]\r"
     ]
    },
    {
     "name": "stdout",
     "output_type": "stream",
     "text": [
      "----------- 2022-12-06 11:27:30 -----------\n",
      "+--------------------+----+\n",
      "|             content|name|\n",
      "+--------------------+----+\n",
      "|what will be sent...|Hugo|\n",
      "|what will be sent...|Hugo|\n",
      "|what will be sent...|Hugo|\n",
      "|what will be sent...|Hugo|\n",
      "|what will be sent...|Hugo|\n",
      "|what will be sent...|Hugo|\n",
      "|what will be sent...|Hugo|\n",
      "|what will be sent...|Hugo|\n",
      "|what will be sent...|Hugo|\n",
      "|what will be sent...|Hugo|\n",
      "+--------------------+----+\n",
      "\n"
     ]
    },
    {
     "name": "stderr",
     "output_type": "stream",
     "text": [
      "{'content': 'what will be sent to spark', 'name': 'Hugo'}\n",
      "{'content': 'what will be sent to spark', 'name': 'Hugo'}                       \n",
      "{'content': 'what will be sent to spark', 'name': 'Hugo'}\n",
      "{'content': 'what will be sent to spark', 'name': 'Hugo'}\n",
      "{'content': 'what will be sent to spark', 'name': 'Hugo'}\n",
      "{'content': 'what will be sent to spark', 'name': 'Hugo'}\n",
      "{'content': 'what will be sent to spark', 'name': 'Hugo'}\n",
      "{'content': 'what will be sent to spark', 'name': 'Hugo'}\n",
      "{'content': 'what will be sent to spark', 'name': 'Hugo'}\n",
      "{'content': 'what will be sent to spark', 'name': 'Hugo'}\n",
      "{'content': 'what will be sent to spark', 'name': 'Hugo'}\n",
      "[Stage 0:>                                                          (0 + 1) / 1]\r"
     ]
    },
    {
     "name": "stdout",
     "output_type": "stream",
     "text": [
      "----------- 2022-12-06 11:27:40 -----------\n",
      "+--------------------+----+\n",
      "|             content|name|\n",
      "+--------------------+----+\n",
      "|what will be sent...|Hugo|\n",
      "|what will be sent...|Hugo|\n",
      "|what will be sent...|Hugo|\n",
      "|what will be sent...|Hugo|\n",
      "|what will be sent...|Hugo|\n",
      "|what will be sent...|Hugo|\n",
      "|what will be sent...|Hugo|\n",
      "+--------------------+----+\n",
      "\n"
     ]
    },
    {
     "name": "stderr",
     "output_type": "stream",
     "text": [
      "{'content': 'what will be sent to spark', 'name': 'Hugo'}\n",
      "{'content': 'what will be sent to spark', 'name': 'Hugo'}\n",
      "{'content': 'what will be sent to spark', 'name': 'Hugo'}                       \n",
      "{'content': 'what will be sent to spark', 'name': 'Hugo'}\n",
      "{'content': 'what will be sent to spark', 'name': 'Hugo'}\n",
      "{'content': 'what will be sent to spark', 'name': 'Hugo'}\n",
      "{'content': 'what will be sent to spark', 'name': 'Hugo'}\n",
      "{'content': 'what will be sent to spark', 'name': 'Hugo'}\n",
      "{'content': 'what will be sent to spark', 'name': 'Hugo'}\n",
      "[Stage 0:>                                                          (0 + 1) / 1]\r"
     ]
    }
   ],
   "source": [
    "ssc.start()\n",
    "# ssc.awaitTermination()  "
   ]
  },
  {
   "cell_type": "code",
   "execution_count": 7,
   "id": "26ff499e",
   "metadata": {},
   "outputs": [
    {
     "name": "stdout",
     "output_type": "stream",
     "text": [
      "22/12/06 10:45:55 ERROR ReceiverTracker: Deregistered receiver for stream 0: Restarting receiver with delay 2000ms: Error connecting to 127.0.0.1:5590 - java.net.ConnectException: Connection refused\n",
      "\tat java.base/sun.nio.ch.Net.connect0(Native Method)\n",
      "\tat java.base/sun.nio.ch.Net.connect(Net.java:493)\n",
      "\tat java.base/sun.nio.ch.Net.connect(Net.java:482)\n",
      "\tat java.base/sun.nio.ch.NioSocketImpl.connect(NioSocketImpl.java:588)\n",
      "\tat java.base/java.net.SocksSocketImpl.connect(SocksSocketImpl.java:339)\n",
      "\tat java.base/java.net.Socket.connect(Socket.java:603)\n",
      "\tat java.base/java.net.Socket.connect(Socket.java:552)\n",
      "\tat java.base/java.net.Socket.<init>(Socket.java:475)\n",
      "\tat java.base/java.net.Socket.<init>(Socket.java:249)\n",
      "\tat org.apache.spark.streaming.dstream.SocketReceiver.onStart(SocketInputDStream.scala:61)\n",
      "\tat org.apache.spark.streaming.receiver.ReceiverSupervisor.startReceiver(ReceiverSupervisor.scala:149)\n",
      "\tat org.apache.spark.streaming.receiver.ReceiverSupervisor.$anonfun$restartReceiver$1(ReceiverSupervisor.scala:198)\n",
      "\tat scala.runtime.java8.JFunction0$mcV$sp.apply(JFunction0$mcV$sp.java:23)\n",
      "\tat scala.concurrent.Future$.$anonfun$apply$1(Future.scala:659)\n",
      "\tat scala.util.Success.$anonfun$map$1(Try.scala:255)\n",
      "\tat scala.util.Success.map(Try.scala:213)\n",
      "\tat scala.concurrent.Future.$anonfun$map$1(Future.scala:292)\n",
      "\tat scala.concurrent.impl.Promise.liftedTree1$1(Promise.scala:33)\n",
      "\tat scala.concurrent.impl.Promise.$anonfun$transform$1(Promise.scala:33)\n",
      "\tat scala.concurrent.impl.CallbackRunnable.run(Promise.scala:64)\n",
      "\tat java.base/java.util.concurrent.ThreadPoolExecutor.runWorker(ThreadPoolExecutor.java:1128)\n",
      "\tat java.base/java.util.concurrent.ThreadPoolExecutor$Worker.run(ThreadPoolExecutor.java:628)\n",
      "\tat java.base/java.lang.Thread.run(Thread.java:830)\n",
      "\n"
     ]
    },
    {
     "name": "stderr",
     "output_type": "stream",
     "text": [
      "Exception in thread \"receiver-supervisor-future-15\" java.lang.InterruptedException: sleep interrupted\n",
      "\tat java.base/java.lang.Thread.sleep(Native Method)\n",
      "\tat org.apache.spark.streaming.receiver.ReceiverSupervisor.$anonfun$restartReceiver$1(ReceiverSupervisor.scala:196)\n",
      "\tat scala.runtime.java8.JFunction0$mcV$sp.apply(JFunction0$mcV$sp.java:23)\n",
      "\tat scala.concurrent.Future$.$anonfun$apply$1(Future.scala:659)\n",
      "\tat scala.util.Success.$anonfun$map$1(Try.scala:255)\n",
      "\tat scala.util.Success.map(Try.scala:213)\n",
      "\tat scala.concurrent.Future.$anonfun$map$1(Future.scala:292)\n",
      "\tat scala.concurrent.impl.Promise.liftedTree1$1(Promise.scala:33)\n",
      "\tat scala.concurrent.impl.Promise.$anonfun$transform$1(Promise.scala:33)\n",
      "\tat scala.concurrent.impl.CallbackRunnable.run(Promise.scala:64)\n",
      "\tat java.base/java.util.concurrent.ThreadPoolExecutor.runWorker(ThreadPoolExecutor.java:1128)\n",
      "\tat java.base/java.util.concurrent.ThreadPoolExecutor$Worker.run(ThreadPoolExecutor.java:628)\n",
      "\tat java.base/java.lang.Thread.run(Thread.java:830)\n"
     ]
    }
   ],
   "source": [
    "ssc.stop()"
   ]
  },
  {
   "cell_type": "code",
   "execution_count": null,
   "id": "3b43bba1",
   "metadata": {},
   "outputs": [],
   "source": []
  }
 ],
 "metadata": {
  "kernelspec": {
   "display_name": "Python 3",
   "language": "python",
   "name": "python3"
  },
  "language_info": {
   "codemirror_mode": {
    "name": "ipython",
    "version": 3
   },
   "file_extension": ".py",
   "mimetype": "text/x-python",
   "name": "python",
   "nbconvert_exporter": "python",
   "pygments_lexer": "ipython3",
   "version": "3.8.8"
  }
 },
 "nbformat": 4,
 "nbformat_minor": 5
}
